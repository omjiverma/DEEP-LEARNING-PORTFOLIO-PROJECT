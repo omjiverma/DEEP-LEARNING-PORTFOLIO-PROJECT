{
  "nbformat": 4,
  "nbformat_minor": 0,
  "metadata": {
    "colab": {
      "name": "MNIST Hand written digits classification.ipynb",
      "provenance": [],
      "collapsed_sections": []
    },
    "kernelspec": {
      "name": "python3",
      "display_name": "Python 3"
    },
    "language_info": {
      "name": "python"
    },
    "accelerator": "GPU",
    "gpuClass": "standard"
  },
  "cells": [
    {
      "cell_type": "markdown",
      "source": [
        "# MNIST Hand Written Digits and Character Classification "
      ],
      "metadata": {
        "id": "teWMgSyxxCb9"
      }
    },
    {
      "cell_type": "markdown",
      "source": [
        "## Import Required Libraries"
      ],
      "metadata": {
        "id": "Pq3bjiG6xUi-"
      }
    },
    {
      "cell_type": "code",
      "execution_count": null,
      "metadata": {
        "id": "6zmMMsYnNI9j"
      },
      "outputs": [],
      "source": [
        "from sklearn.preprocessing import LabelBinarizer\n",
        "from tensorflow.keras.datasets import mnist\n",
        "import tensorflow as tf\n",
        "from tensorflow.python.client import device_lib\n",
        "import numpy as np\n",
        "import matplotlib\n",
        "import matplotlib.pyplot as plt\n",
        "%matplotlib inline"
      ]
    },
    {
      "cell_type": "code",
      "source": [
        "from tensorflow.keras.models import Sequential\n",
        "from tensorflow.keras.layers import Dense"
      ],
      "metadata": {
        "id": "HP4C2VCEwICc"
      },
      "execution_count": null,
      "outputs": []
    },
    {
      "cell_type": "code",
      "source": [
        "from sklearn.metrics import classification_report"
      ],
      "metadata": {
        "id": "45wfYkoECkyI"
      },
      "execution_count": null,
      "outputs": []
    },
    {
      "cell_type": "markdown",
      "source": [
        "## Load The Data"
      ],
      "metadata": {
        "id": "zM6qp7-CyYdU"
      }
    },
    {
      "cell_type": "code",
      "source": [
        "(X_train, y_train), (X_test, y_test) = mnist.load_data()"
      ],
      "metadata": {
        "id": "FMKQ-4PPwksb",
        "colab": {
          "base_uri": "https://localhost:8080/"
        },
        "outputId": "80659b77-94ba-4423-f978-e9dec3d72f11"
      },
      "execution_count": null,
      "outputs": [
        {
          "output_type": "stream",
          "name": "stdout",
          "text": [
            "Downloading data from https://storage.googleapis.com/tensorflow/tf-keras-datasets/mnist.npz\n",
            "11493376/11490434 [==============================] - 0s 0us/step\n",
            "11501568/11490434 [==============================] - 0s 0us/step\n"
          ]
        }
      ]
    },
    {
      "cell_type": "markdown",
      "source": [
        "## Lets Check the length of dataset"
      ],
      "metadata": {
        "id": "X91yLzguzDBv"
      }
    },
    {
      "cell_type": "code",
      "source": [
        "print('Length of X_train :',len(X_train))\n",
        "print('Length of y_train :',len(y_train))\n",
        "print('Length of X_test :',len(X_test))\n",
        "print('Length of y_test :',len(y_test))"
      ],
      "metadata": {
        "colab": {
          "base_uri": "https://localhost:8080/"
        },
        "id": "dTaMdYKrytMu",
        "outputId": "7a70942c-c177-4f83-ff15-1d5d945b1c9a"
      },
      "execution_count": null,
      "outputs": [
        {
          "output_type": "stream",
          "name": "stdout",
          "text": [
            "Length of X_train : 60000\n",
            "Length of y_train : 60000\n",
            "Length of X_test : 10000\n",
            "Length of y_test : 10000\n"
          ]
        }
      ]
    },
    {
      "cell_type": "markdown",
      "source": [
        "## Lets have a look at our images"
      ],
      "metadata": {
        "id": "t3UxD8AEzqL4"
      }
    },
    {
      "cell_type": "code",
      "source": [
        "def show_img(dataset):\n",
        "  rand_nums = np.random.randint(1,len(dataset), size=9)\n",
        "  j=0\n",
        "  for i in rand_nums:\n",
        "    # define subplot\n",
        "    plt.subplot(330+1+j)\n",
        "    # plot raw pixel data\n",
        "    plt.imshow(dataset[i], cmap=plt.get_cmap('gray'))\n",
        "    j+=1\n",
        "  # show the figure\n",
        "  plt.show()"
      ],
      "metadata": {
        "id": "kkSRZcqdzn93"
      },
      "execution_count": null,
      "outputs": []
    },
    {
      "cell_type": "code",
      "source": [
        "show_img(X_train)"
      ],
      "metadata": {
        "colab": {
          "base_uri": "https://localhost:8080/",
          "height": 268
        },
        "id": "1iisue5u1NHj",
        "outputId": "291f3006-73de-46c5-f06e-ddb5f29473e1"
      },
      "execution_count": null,
      "outputs": [
        {
          "output_type": "display_data",
          "data": {
            "text/plain": [
              "<Figure size 432x288 with 9 Axes>"
            ],
            "image/png": "[encoded data removed]"
          },
          "metadata": {
            "needs_background": "light"
          }
        }
      ]
    },
    {
      "cell_type": "code",
      "source": [
        "show_img(X_train)"
      ],
      "metadata": {
        "colab": {
          "base_uri": "https://localhost:8080/",
          "height": 268
        },
        "id": "rAmSrXAV1N7H",
        "outputId": "fa1dd434-ce6b-48e5-a5f9-cc4db72e2581"
      },
      "execution_count": null,
      "outputs": [
        {
          "output_type": "display_data",
          "data": {
            "text/plain": [
              "<Figure size 432x288 with 9 Axes>"
            ],
            "image/png": "[encoded data removed]"
          },
          "metadata": {
            "needs_background": "light"
          }
        }
      ]
    },
    {
      "cell_type": "markdown",
      "source": [
        "## Checking shape of our images"
      ],
      "metadata": {
        "id": "hkAoVhCPeC7j"
      }
    },
    {
      "cell_type": "code",
      "source": [
        "print('Train: X=%s, y=%s' % (X_train.shape, y_train.shape))\n",
        "print('Test: X=%s, y=%s' % (X_test.shape, y_test.shape))"
      ],
      "metadata": {
        "id": "B93l1-YW11s9",
        "colab": {
          "base_uri": "https://localhost:8080/"
        },
        "outputId": "ff8c2d5a-d15a-4c76-e5b8-eef86f77040d"
      },
      "execution_count": null,
      "outputs": [
        {
          "output_type": "stream",
          "name": "stdout",
          "text": [
            "Train: X=(60000, 28, 28), y=(60000,)\n",
            "Test: X=(10000, 28, 28), y=(10000,)\n"
          ]
        }
      ]
    },
    {
      "cell_type": "code",
      "source": [
        "y_train[:10]"
      ],
      "metadata": {
        "colab": {
          "base_uri": "https://localhost:8080/"
        },
        "id": "6E5dnL9_eQMg",
        "outputId": "208e0fa5-2ae7-4ad4-a101-a787fea9dc2d"
      },
      "execution_count": null,
      "outputs": [
        {
          "output_type": "execute_result",
          "data": {
            "text/plain": [
              "array([5, 0, 4, 1, 9, 2, 1, 3, 1, 4], dtype=uint8)"
            ]
          },
          "metadata": {},
          "execution_count": 10
        }
      ]
    },
    {
      "cell_type": "markdown",
      "source": [
        "## Data Preprocessing"
      ],
      "metadata": {
        "id": "glPU2id59uoY"
      }
    },
    {
      "cell_type": "markdown",
      "source": [
        "### Flattening and normalising images for training ANN"
      ],
      "metadata": {
        "id": "aPxUA7S9aPGP"
      }
    },
    {
      "cell_type": "code",
      "source": [
        "def flatten_normalize(dataset):\n",
        "  dataset = dataset.reshape((dataset.shape[0], 28 * 28 * 1))\n",
        "  dataset = dataset.astype(\"float32\") / 255.0\n",
        "  return dataset\n",
        "def denormflat(dataset):\n",
        "  dataset = dataset.reshape((dataset.shape[0],28,28))\n",
        "  dataset = dataset.astype(\"float32\") * 255.0\n",
        "  return dataset\n"
      ],
      "metadata": {
        "id": "UCHznBeXEqV4"
      },
      "execution_count": null,
      "outputs": []
    },
    {
      "cell_type": "code",
      "source": [
        "X_train_fn = flatten_normalize(X_train)\n",
        "X_test_fn = flatten_normalize(X_test)"
      ],
      "metadata": {
        "id": "PnHWR_MX91sV"
      },
      "execution_count": null,
      "outputs": []
    },
    {
      "cell_type": "markdown",
      "source": [
        "### Convert the labels from integers to vectors"
      ],
      "metadata": {
        "id": "7XE6h-IhaYZR"
      }
    },
    {
      "cell_type": "code",
      "source": [
        "lb = LabelBinarizer()\n",
        "y_train = lb.fit_transform(y_train)\n",
        "y_test = lb.transform(y_test)"
      ],
      "metadata": {
        "id": "M2Aa9UtF-yWv"
      },
      "execution_count": null,
      "outputs": []
    },
    {
      "cell_type": "markdown",
      "source": [
        "## Using GPU"
      ],
      "metadata": {
        "id": "w_H9vkMyhcP9"
      }
    },
    {
      "cell_type": "markdown",
      "source": [
        "### Find Available GPU"
      ],
      "metadata": {
        "id": "hbFGKqlehqgL"
      }
    },
    {
      "cell_type": "code",
      "source": [
        "def check_available_gpus():\n",
        "    local_devices = device_lib.list_local_devices()\n",
        "    gpu_names = [x.name for x in local_devices if x.device_type == 'GPU']\n",
        "    gpu_num = len(gpu_names)\n",
        "\n",
        "    print('{0} GPUs are detected : {1}'.format(gpu_num, gpu_names))\n",
        "\n",
        "    return gpu_num"
      ],
      "metadata": {
        "id": "0hYA-3p-f5Jq"
      },
      "execution_count": null,
      "outputs": []
    },
    {
      "cell_type": "code",
      "source": [
        "d = check_available_gpus()\n",
        "d"
      ],
      "metadata": {
        "id": "IOZKm_6Rf49g",
        "colab": {
          "base_uri": "https://localhost:8080/"
        },
        "outputId": "304b0cfc-46a5-4501-ffbd-37794502801c"
      },
      "execution_count": null,
      "outputs": [
        {
          "output_type": "stream",
          "name": "stdout",
          "text": [
            "1 GPUs are detected : ['/device:GPU:0']\n"
          ]
        },
        {
          "output_type": "execute_result",
          "data": {
            "text/plain": [
              "1"
            ]
          },
          "metadata": {},
          "execution_count": 15
        }
      ]
    },
    {
      "cell_type": "markdown",
      "source": [
        "## ANN"
      ],
      "metadata": {
        "id": "Yjf0d990we0-"
      }
    },
    {
      "cell_type": "markdown",
      "source": [
        "###Feed Forward Neural Network"
      ],
      "metadata": {
        "id": "RkYMfnJ1al_1"
      }
    },
    {
      "cell_type": "code",
      "source": [
        "model = Sequential()\n",
        "model.add(Dense(256, input_shape=(784,), activation=\"sigmoid\"))\n",
        "model.add(Dense(128, activation=\"sigmoid\"))\n",
        "model.add(Dense(10, activation=\"softmax\"))"
      ],
      "metadata": {
        "id": "wnWqNw1XfoLH"
      },
      "execution_count": null,
      "outputs": []
    },
    {
      "cell_type": "markdown",
      "source": [
        "###Learning Rate Scheduling"
      ],
      "metadata": {
        "id": "6r7jlAN9arH7"
      }
    },
    {
      "cell_type": "code",
      "source": [
        "initial_learning_rate = 0.1\n",
        "lr_schedule = tf.keras.optimizers.schedules.ExponentialDecay(\n",
        "    initial_learning_rate,\n",
        "    decay_steps=100000,\n",
        "    decay_rate=0.96,\n",
        "    staircase=True)"
      ],
      "metadata": {
        "id": "XYobbSeRAjTs"
      },
      "execution_count": null,
      "outputs": []
    },
    {
      "cell_type": "markdown",
      "source": [
        "### Compiling Nerual Network"
      ],
      "metadata": {
        "id": "_xyqQO0Nawzq"
      }
    },
    {
      "cell_type": "code",
      "source": [
        "model.compile(loss='CategoricalCrossentropy', optimizer=tf.keras.optimizers.SGD(learning_rate=lr_schedule), metrics=['accuracy'])"
      ],
      "metadata": {
        "id": "89MRBz-4ybTI"
      },
      "execution_count": null,
      "outputs": []
    },
    {
      "cell_type": "markdown",
      "source": [
        "### Training Neural Network with GPU"
      ],
      "metadata": {
        "id": "dB6xrlS5a23s"
      }
    },
    {
      "cell_type": "code",
      "source": [
        "with tf.device(tf.DeviceSpec(device_type=\"GPU\", device_index=1)):\n",
        "  history=model.fit(X_train_fn, y_train, epochs=50, batch_size=32, validation_data=(X_test_fn, y_test))"
      ],
      "metadata": {
        "colab": {
          "base_uri": "https://localhost:8080/"
        },
        "id": "FD37oOJs0O1M",
        "outputId": "14ae2308-665c-4ea5-8b8c-2c3e213567f3"
      },
      "execution_count": null,
      "outputs": [
        {
          "output_type": "stream",
          "name": "stdout",
          "text": [
            "Epoch 1/50\n",
            "1875/1875 [==============================] - 10s 4ms/step - loss: 0.8216 - accuracy: 0.7594 - val_loss: 0.3515 - val_accuracy: 0.8991\n",
            "Epoch 2/50\n",
            "1875/1875 [==============================] - 9s 5ms/step - loss: 0.3304 - accuracy: 0.9032 - val_loss: 0.2895 - val_accuracy: 0.9166\n",
            "Epoch 3/50\n",
            "1875/1875 [==============================] - 6s 3ms/step - loss: 0.2824 - accuracy: 0.9173 - val_loss: 0.2517 - val_accuracy: 0.9282\n",
            "Epoch 4/50\n",
            "1875/1875 [==============================] - 5s 3ms/step - loss: 0.2488 - accuracy: 0.9269 - val_loss: 0.2274 - val_accuracy: 0.9322\n",
            "Epoch 5/50\n",
            "1875/1875 [==============================] - 5s 3ms/step - loss: 0.2217 - accuracy: 0.9347 - val_loss: 0.2047 - val_accuracy: 0.9382\n",
            "Epoch 6/50\n",
            "1875/1875 [==============================] - 5s 3ms/step - loss: 0.1971 - accuracy: 0.9423 - val_loss: 0.1980 - val_accuracy: 0.9424\n",
            "Epoch 7/50\n",
            "1875/1875 [==============================] - 5s 3ms/step - loss: 0.1781 - accuracy: 0.9477 - val_loss: 0.1724 - val_accuracy: 0.9474\n",
            "Epoch 8/50\n",
            "1875/1875 [==============================] - 5s 3ms/step - loss: 0.1614 - accuracy: 0.9526 - val_loss: 0.1547 - val_accuracy: 0.9535\n",
            "Epoch 9/50\n",
            "1875/1875 [==============================] - 5s 3ms/step - loss: 0.1466 - accuracy: 0.9571 - val_loss: 0.1468 - val_accuracy: 0.9554\n",
            "Epoch 10/50\n",
            "1875/1875 [==============================] - 5s 3ms/step - loss: 0.1340 - accuracy: 0.9605 - val_loss: 0.1308 - val_accuracy: 0.9594\n",
            "Epoch 11/50\n",
            "1875/1875 [==============================] - 5s 3ms/step - loss: 0.1236 - accuracy: 0.9643 - val_loss: 0.1221 - val_accuracy: 0.9611\n",
            "Epoch 12/50\n",
            "1875/1875 [==============================] - 6s 3ms/step - loss: 0.1134 - accuracy: 0.9663 - val_loss: 0.1164 - val_accuracy: 0.9631\n",
            "Epoch 13/50\n",
            "1875/1875 [==============================] - 5s 3ms/step - loss: 0.1051 - accuracy: 0.9692 - val_loss: 0.1170 - val_accuracy: 0.9633\n",
            "Epoch 14/50\n",
            "1875/1875 [==============================] - 5s 3ms/step - loss: 0.0974 - accuracy: 0.9715 - val_loss: 0.1100 - val_accuracy: 0.9668\n",
            "Epoch 15/50\n",
            "1875/1875 [==============================] - 5s 3ms/step - loss: 0.0909 - accuracy: 0.9732 - val_loss: 0.0986 - val_accuracy: 0.9689\n",
            "Epoch 16/50\n",
            "1875/1875 [==============================] - 5s 3ms/step - loss: 0.0852 - accuracy: 0.9749 - val_loss: 0.0950 - val_accuracy: 0.9701\n",
            "Epoch 17/50\n",
            "1875/1875 [==============================] - 5s 3ms/step - loss: 0.0794 - accuracy: 0.9769 - val_loss: 0.1008 - val_accuracy: 0.9690\n",
            "Epoch 18/50\n",
            "1875/1875 [==============================] - 5s 3ms/step - loss: 0.0744 - accuracy: 0.9782 - val_loss: 0.0892 - val_accuracy: 0.9721\n",
            "Epoch 19/50\n",
            "1875/1875 [==============================] - 5s 3ms/step - loss: 0.0695 - accuracy: 0.9802 - val_loss: 0.0879 - val_accuracy: 0.9721\n",
            "Epoch 20/50\n",
            "1875/1875 [==============================] - 5s 3ms/step - loss: 0.0653 - accuracy: 0.9811 - val_loss: 0.0840 - val_accuracy: 0.9733\n",
            "Epoch 21/50\n",
            "1875/1875 [==============================] - 5s 3ms/step - loss: 0.0615 - accuracy: 0.9819 - val_loss: 0.0869 - val_accuracy: 0.9726\n",
            "Epoch 22/50\n",
            "1875/1875 [==============================] - 5s 3ms/step - loss: 0.0575 - accuracy: 0.9834 - val_loss: 0.0787 - val_accuracy: 0.9767\n",
            "Epoch 23/50\n",
            "1875/1875 [==============================] - 5s 3ms/step - loss: 0.0545 - accuracy: 0.9844 - val_loss: 0.0775 - val_accuracy: 0.9757\n",
            "Epoch 24/50\n",
            "1875/1875 [==============================] - 5s 3ms/step - loss: 0.0511 - accuracy: 0.9852 - val_loss: 0.0764 - val_accuracy: 0.9761\n",
            "Epoch 25/50\n",
            "1875/1875 [==============================] - 5s 3ms/step - loss: 0.0486 - accuracy: 0.9860 - val_loss: 0.0738 - val_accuracy: 0.9772\n",
            "Epoch 26/50\n",
            "1875/1875 [==============================] - 5s 3ms/step - loss: 0.0454 - accuracy: 0.9873 - val_loss: 0.0753 - val_accuracy: 0.9752\n",
            "Epoch 27/50\n",
            "1875/1875 [==============================] - 5s 3ms/step - loss: 0.0428 - accuracy: 0.9877 - val_loss: 0.0719 - val_accuracy: 0.9780\n",
            "Epoch 28/50\n",
            "1875/1875 [==============================] - 5s 3ms/step - loss: 0.0403 - accuracy: 0.9890 - val_loss: 0.0777 - val_accuracy: 0.9756\n",
            "Epoch 29/50\n",
            "1875/1875 [==============================] - 7s 4ms/step - loss: 0.0381 - accuracy: 0.9898 - val_loss: 0.0715 - val_accuracy: 0.9780\n",
            "Epoch 30/50\n",
            "1875/1875 [==============================] - 6s 3ms/step - loss: 0.0361 - accuracy: 0.9903 - val_loss: 0.0711 - val_accuracy: 0.9773\n",
            "Epoch 31/50\n",
            "1875/1875 [==============================] - 6s 3ms/step - loss: 0.0339 - accuracy: 0.9908 - val_loss: 0.0696 - val_accuracy: 0.9791\n",
            "Epoch 32/50\n",
            "1875/1875 [==============================] - 5s 3ms/step - loss: 0.0321 - accuracy: 0.9916 - val_loss: 0.0688 - val_accuracy: 0.9797\n",
            "Epoch 33/50\n",
            "1875/1875 [==============================] - 5s 3ms/step - loss: 0.0300 - accuracy: 0.9922 - val_loss: 0.0775 - val_accuracy: 0.9768\n",
            "Epoch 34/50\n",
            "1875/1875 [==============================] - 5s 3ms/step - loss: 0.0285 - accuracy: 0.9925 - val_loss: 0.0666 - val_accuracy: 0.9796\n",
            "Epoch 35/50\n",
            "1875/1875 [==============================] - 5s 3ms/step - loss: 0.0271 - accuracy: 0.9927 - val_loss: 0.0665 - val_accuracy: 0.9804\n",
            "Epoch 36/50\n",
            "1875/1875 [==============================] - 5s 3ms/step - loss: 0.0252 - accuracy: 0.9940 - val_loss: 0.0679 - val_accuracy: 0.9794\n",
            "Epoch 37/50\n",
            "1875/1875 [==============================] - 5s 3ms/step - loss: 0.0238 - accuracy: 0.9943 - val_loss: 0.0668 - val_accuracy: 0.9801\n",
            "Epoch 38/50\n",
            "1875/1875 [==============================] - 5s 3ms/step - loss: 0.0226 - accuracy: 0.9947 - val_loss: 0.0660 - val_accuracy: 0.9800\n",
            "Epoch 39/50\n",
            "1875/1875 [==============================] - 5s 3ms/step - loss: 0.0209 - accuracy: 0.9953 - val_loss: 0.0655 - val_accuracy: 0.9808\n",
            "Epoch 40/50\n",
            "1875/1875 [==============================] - 5s 3ms/step - loss: 0.0201 - accuracy: 0.9959 - val_loss: 0.0662 - val_accuracy: 0.9810\n",
            "Epoch 41/50\n",
            "1875/1875 [==============================] - 5s 3ms/step - loss: 0.0186 - accuracy: 0.9961 - val_loss: 0.0661 - val_accuracy: 0.9807\n",
            "Epoch 42/50\n",
            "1875/1875 [==============================] - 5s 3ms/step - loss: 0.0175 - accuracy: 0.9966 - val_loss: 0.0662 - val_accuracy: 0.9801\n",
            "Epoch 43/50\n",
            "1875/1875 [==============================] - 5s 3ms/step - loss: 0.0167 - accuracy: 0.9968 - val_loss: 0.0676 - val_accuracy: 0.9807\n",
            "Epoch 44/50\n",
            "1875/1875 [==============================] - 5s 3ms/step - loss: 0.0156 - accuracy: 0.9972 - val_loss: 0.0692 - val_accuracy: 0.9799\n",
            "Epoch 45/50\n",
            "1875/1875 [==============================] - 5s 3ms/step - loss: 0.0148 - accuracy: 0.9971 - val_loss: 0.0696 - val_accuracy: 0.9796\n",
            "Epoch 46/50\n",
            "1875/1875 [==============================] - 5s 3ms/step - loss: 0.0140 - accuracy: 0.9978 - val_loss: 0.0659 - val_accuracy: 0.9816\n",
            "Epoch 47/50\n",
            "1875/1875 [==============================] - 5s 3ms/step - loss: 0.0131 - accuracy: 0.9980 - val_loss: 0.0661 - val_accuracy: 0.9814\n",
            "Epoch 48/50\n",
            "1875/1875 [==============================] - 5s 3ms/step - loss: 0.0123 - accuracy: 0.9983 - val_loss: 0.0663 - val_accuracy: 0.9808\n",
            "Epoch 49/50\n",
            "1875/1875 [==============================] - 5s 3ms/step - loss: 0.0116 - accuracy: 0.9984 - val_loss: 0.0669 - val_accuracy: 0.9801\n",
            "Epoch 50/50\n",
            "1875/1875 [==============================] - 5s 3ms/step - loss: 0.0111 - accuracy: 0.9987 - val_loss: 0.0657 - val_accuracy: 0.9812\n"
          ]
        }
      ]
    },
    {
      "cell_type": "markdown",
      "source": [
        "### Neural Network Evaluation"
      ],
      "metadata": {
        "id": "9Qk-lqFAa8m8"
      }
    },
    {
      "cell_type": "markdown",
      "source": [
        "### Epoch Vs. Loss"
      ],
      "metadata": {
        "id": "2u23ZEk4fhYv"
      }
    },
    {
      "cell_type": "code",
      "source": [
        "plt.figure(figsize=(10,6))\n",
        "plt.plot(history.history['loss']);\n",
        "plt.plot(history.history['val_loss'])\n",
        "plt.legend(['Train Loss','Val Loss'])\n",
        "plt.title('Loss and Epoch')\n",
        "plt.ylabel('Loss')\n",
        "plt.xlabel('Epoch');"
      ],
      "metadata": {
        "colab": {
          "base_uri": "https://localhost:8080/",
          "height": 404
        },
        "id": "2XpHOemUc18l",
        "outputId": "f2fe26fb-111f-4f23-ae43-ea3aeaabc19e"
      },
      "execution_count": null,
      "outputs": [
        {
          "output_type": "display_data",
          "data": {
            "text/plain": [
              "<Figure size 720x432 with 1 Axes>"
            ],
            "image/png": "[encoded data removed]"
          },
          "metadata": {
            "needs_background": "light"
          }
        }
      ]
    },
    {
      "cell_type": "markdown",
      "source": [
        "### Epcoh Vs. Accuracy"
      ],
      "metadata": {
        "id": "bL7tAHh_fgBA"
      }
    },
    {
      "cell_type": "code",
      "source": [
        "plt.figure(figsize=(10,6))\n",
        "plt.plot(history.history['accuracy']);\n",
        "plt.plot(history.history['val_accuracy'])\n",
        "plt.legend(['Train Accuracy','Val Accuracy'])\n",
        "plt.title('Epoch Vs. Accuracy')\n",
        "plt.ylabel('Accuracy')\n",
        "plt.xlabel('Epoch');"
      ],
      "metadata": {
        "colab": {
          "base_uri": "https://localhost:8080/",
          "height": 404
        },
        "id": "NdOwdO5ffrpH",
        "outputId": "8ecec727-d313-4604-ad22-b5f154cbd0f2"
      },
      "execution_count": null,
      "outputs": [
        {
          "output_type": "display_data",
          "data": {
            "text/plain": [
              "<Figure size 720x432 with 1 Axes>"
            ],
            "image/png": "[encoded data removed]"
          },
          "metadata": {
            "needs_background": "light"
          }
        }
      ]
    },
    {
      "cell_type": "markdown",
      "source": [
        "## Predicting with individual images"
      ],
      "metadata": {
        "id": "RUOMtOVlRsZQ"
      }
    },
    {
      "cell_type": "code",
      "source": [
        "def pred(image,true):\n",
        "  img = image.reshape(784)\n",
        "  img = img.astype(\"float32\") / 255.0\n",
        "  img = np.expand_dims(img, axis = 0)\n",
        "  p=model.predict(img)\n",
        "  plt.title(f'True:{np.argmax(true)}        Predicted: {np.argmax(p)}')\n",
        "  plt.imshow(image,cmap=plt.get_cmap('gray'))"
      ],
      "metadata": {
        "id": "zxce_C12RweX"
      },
      "execution_count": null,
      "outputs": []
    },
    {
      "cell_type": "code",
      "source": [
        "pred(X_test[20],y_test[20])"
      ],
      "metadata": {
        "colab": {
          "base_uri": "https://localhost:8080/",
          "height": 281
        },
        "id": "N9neJLPCSvGV",
        "outputId": "d6970de7-0b6d-41ac-d068-5bdd8866c02b"
      },
      "execution_count": null,
      "outputs": [
        {
          "output_type": "display_data",
          "data": {
            "text/plain": [
              "<Figure size 432x288 with 1 Axes>"
            ],
            "image/png": "[encoded data removed]"
          },
          "metadata": {
            "needs_background": "light"
          }
        }
      ]
    },
    {
      "cell_type": "code",
      "source": [
        "pred(X_test[4360],y_test[4360])"
      ],
      "metadata": {
        "colab": {
          "base_uri": "https://localhost:8080/",
          "height": 281
        },
        "id": "SX1C4dk3TR_n",
        "outputId": "eac55dd7-bd27-4b8f-ae36-5c7c90efc780"
      },
      "execution_count": null,
      "outputs": [
        {
          "output_type": "display_data",
          "data": {
            "text/plain": [
              "<Figure size 432x288 with 1 Axes>"
            ],
            "image/png": "[encoded data removed]"
          },
          "metadata": {
            "needs_background": "light"
          }
        }
      ]
    },
    {
      "cell_type": "code",
      "source": [
        "pred(X_test[976],y_test[976])"
      ],
      "metadata": {
        "colab": {
          "base_uri": "https://localhost:8080/",
          "height": 281
        },
        "id": "-YrFHkxeUFV0",
        "outputId": "8d629402-366d-4715-e8c2-db439f07a28e"
      },
      "execution_count": null,
      "outputs": [
        {
          "output_type": "display_data",
          "data": {
            "text/plain": [
              "<Figure size 432x288 with 1 Axes>"
            ],
            "image/png": "[encoded data removed]"
          },
          "metadata": {
            "needs_background": "light"
          }
        }
      ]
    },
    {
      "cell_type": "markdown",
      "source": [
        "## Prediction for Competetion"
      ],
      "metadata": {
        "id": "ThhAHxghMt0_"
      }
    },
    {
      "cell_type": "code",
      "source": [
        "!unzip './test' -d './'"
      ],
      "metadata": {
        "id": "f0s6hBKOM3uP"
      },
      "execution_count": null,
      "outputs": []
    },
    {
      "cell_type": "code",
      "source": [
        "from PIL import Image, ImageOps\n",
        "from numpy import asarray\n",
        "import os\n",
        "from tqdm import tqdm\n",
        "import pandas as pd\n",
        "preds={'filename':[],'label':[]}\n",
        "for im in tqdm(os.listdir('./test')):\n",
        "  # load the image\n",
        "  image = Image.open('./test/'+im)\n",
        "  # convert image to numpy array\n",
        "  im2 = ImageOps.grayscale(image)\n",
        "  im2 = asarray(im2)\n",
        "  img = im2.reshape(784)\n",
        "  img = img.astype(\"float32\") / 255.0\n",
        "  img = np.expand_dims(img, axis = 0)\n",
        "  p=model.predict(img)\n",
        "  preds['filename'].append(im)\n",
        "  preds['label'].append(np.argmax(p))\n"
      ],
      "metadata": {
        "id": "PFjUnIrq1pLm",
        "colab": {
          "base_uri": "https://localhost:8080/"
        },
        "outputId": "0792ceb5-2e37-45a9-8191-309d991a2d76"
      },
      "execution_count": null,
      "outputs": [
        {
          "output_type": "stream",
          "name": "stderr",
          "text": [
            "100%|██████████| 21000/21000 [14:43<00:00, 23.76it/s]\n"
          ]
        }
      ]
    },
    {
      "cell_type": "code",
      "source": [
        "df.to_csv('test2.csv')"
      ],
      "metadata": {
        "id": "1w6_rKfyTRVg"
      },
      "execution_count": null,
      "outputs": []
    },
    {
      "cell_type": "code",
      "source": [
        ""
      ],
      "metadata": {
        "id": "Z0DYI0VqZBmT"
      },
      "execution_count": null,
      "outputs": []
    }
  ]
}