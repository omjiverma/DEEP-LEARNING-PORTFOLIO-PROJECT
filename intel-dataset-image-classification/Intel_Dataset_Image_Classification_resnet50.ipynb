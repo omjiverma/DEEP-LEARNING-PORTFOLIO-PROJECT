{
  "cells": [
    {
      "cell_type": "markdown",
      "metadata": {
        "id": "wPTlCFDjK8ak"
      },
      "source": [
        "# Intel Dataset Image Classification using RESNET50"
      ]
    },
    {
      "cell_type": "markdown",
      "metadata": {
        "id": "oOovv2YVK8U5"
      },
      "source": [
        "This Data contains around 25k images of size 150x150 distributed under 6 categories.\n",
        "\n",
        "* 'buildings' -> 0,\n",
        "\n",
        "* 'forest' -> 1,\n",
        "\n",
        "* 'glacier' -> 2,\n",
        "\n",
        "* 'mountain' -> 3,\n",
        "\n",
        "* 'sea' -> 4,\n",
        "\n",
        "* 'street' -> 5 "
      ]
    },
    {
      "cell_type": "markdown",
      "metadata": {
        "id": "JjDYmnOnLe9u"
      },
      "source": [
        "## Install The Required Libraries"
      ]
    },
    {
      "cell_type": "code",
      "execution_count": 2,
      "metadata": {
        "id": "yUzsM7YfKozg"
      },
      "outputs": [],
      "source": [
        "!pip install opendatasets visualkeras -q"
      ]
    },
    {
      "cell_type": "markdown",
      "metadata": {
        "id": "ZYUwrlKjLvjd"
      },
      "source": [
        "## Import the libraries"
      ]
    },
    {
      "cell_type": "code",
      "execution_count": 3,
      "metadata": {
        "id": "CdvAUOD-Ll0L"
      },
      "outputs": [],
      "source": [
        "import numpy as np\n",
        "import tensorflow as tf\n",
        "import os\n",
        "import opendatasets as od\n",
        "from tensorflow.keras.layers import Flatten, Dense, Dropout\n",
        "from tensorflow.keras import Sequential\n",
        "from tensorflow.keras import Model\n",
        "from tensorflow.keras.preprocessing.image import ImageDataGenerator\n",
        "import matplotlib\n",
        "import matplotlib.pyplot as plt\n",
        "import visualkeras\n",
        "import warnings\n",
        "warnings.filterwarnings('ignore')\n",
        "%matplotlib inline"
      ]
    },
    {
      "cell_type": "markdown",
      "metadata": {
        "id": "ck49BhEhL2TR"
      },
      "source": [
        "## Download the dataset"
      ]
    },
    {
      "cell_type": "code",
      "execution_count": 4,
      "metadata": {
        "id": "rjvfMIcwL1su"
      },
      "outputs": [],
      "source": [
        "url='https://www.kaggle.com/datasets/puneet6060/intel-image-classification'"
      ]
    },
    {
      "cell_type": "code",
      "execution_count": 5,
      "metadata": {
        "colab": {
          "base_uri": "https://localhost:8080/"
        },
        "id": "p9CThHujp7ri",
        "outputId": "3828955b-30fc-4d9f-f5a0-54964b0cbd59"
      },
      "outputs": [
        {
          "output_type": "stream",
          "name": "stdout",
          "text": [
            "Skipping, found downloaded files in \"./intel-image-classification\" (use force=True to force download)\n"
          ]
        }
      ],
      "source": [
        "od.download(url)"
      ]
    },
    {
      "cell_type": "markdown",
      "metadata": {
        "id": "G8bEGSQHqOF8"
      },
      "source": [
        "## Dataset Paths"
      ]
    },
    {
      "cell_type": "code",
      "execution_count": 6,
      "metadata": {
        "id": "SL9x2C4QqEZa"
      },
      "outputs": [],
      "source": [
        "path_train = './intel-image-classification/seg_train/seg_train'\n",
        "path_val = './intel-image-classification/seg_test/seg_test'"
      ]
    },
    {
      "cell_type": "markdown",
      "metadata": {
        "id": "RvRdCZV8rrTX"
      },
      "source": [
        "## Data Preprocessing"
      ]
    },
    {
      "cell_type": "code",
      "execution_count": 7,
      "metadata": {
        "colab": {
          "base_uri": "https://localhost:8080/"
        },
        "id": "mGJLVNSfrk9p",
        "outputId": "84f1c310-69fd-4fc1-c959-bbc5330b0483"
      },
      "outputs": [
        {
          "output_type": "stream",
          "name": "stdout",
          "text": [
            "Found 14034 images belonging to 6 classes.\n",
            "Found 3000 images belonging to 6 classes.\n"
          ]
        }
      ],
      "source": [
        "datagen = ImageDataGenerator(rescale = 1./255,\n",
        "      rotation_range=40,\n",
        "      width_shift_range=0.2,\n",
        "      height_shift_range=0.2,\n",
        "      shear_range=0.2,\n",
        "      zoom_range=0.2,\n",
        "      horizontal_flip=True,\n",
        "      vertical_flip=True,)\n",
        "train_generator = datagen.flow_from_directory(path_train,\n",
        "                                              batch_size =50 ,\n",
        "                                              target_size = (150,150)) \n",
        "valgen = ImageDataGenerator(rescale = 1./255)\n",
        "validation_generator =  valgen.flow_from_directory( path_val,\n",
        "                                                   batch_size  = 100, \n",
        "                                                   target_size = (150, 150),shuffle=False)"
      ]
    },
    {
      "cell_type": "markdown",
      "metadata": {
        "id": "XalgBc8AsglM"
      },
      "source": [
        "## Resnet50 Pretrained weights"
      ]
    },
    {
      "cell_type": "code",
      "execution_count": 8,
      "metadata": {
        "id": "XC_kGFTdsF3k"
      },
      "outputs": [],
      "source": [
        "resnet50 = tf.keras.applications.resnet50.ResNet50(weights=\"imagenet\", include_top=False,input_shape = (150,150,3))"
      ]
    },
    {
      "cell_type": "markdown",
      "metadata": {
        "id": "9WPdufMztI2V"
      },
      "source": [
        "### Model Summary"
      ]
    },
    {
      "cell_type": "code",
      "execution_count": 9,
      "metadata": {
        "colab": {
          "base_uri": "https://localhost:8080/"
        },
        "id": "p6gHHFp2tGAZ",
        "outputId": "b80bf8f9-1902-4c3c-d274-d524525e7fd8"
      },
      "outputs": [
        {
          "output_type": "stream",
          "name": "stdout",
          "text": [
            "Model: \"sequential\"\n",
            "_________________________________________________________________\n",
            " Layer (type)                Output Shape              Param #   \n",
            "=================================================================\n",
            " resnet50 (Functional)       (None, 5, 5, 2048)        23587712  \n",
            "                                                                 \n",
            " flatten (Flatten)           (None, 51200)             0         \n",
            "                                                                 \n",
            " dense (Dense)               (None, 1000)              51201000  \n",
            "                                                                 \n",
            " dense_1 (Dense)             (None, 6)                 6006      \n",
            "                                                                 \n",
            "=================================================================\n",
            "Total params: 74,794,718\n",
            "Trainable params: 74,741,598\n",
            "Non-trainable params: 53,120\n",
            "_________________________________________________________________\n",
            "None\n"
          ]
        }
      ],
      "source": [
        "model = Sequential()\n",
        "model.add(resnet50)\n",
        "model.add(Flatten())\n",
        "model.output_shape\n",
        "model.add(Dense(1000,activation = 'relu'))\n",
        "model.add(Dense(6,activation = 'softmax'))\n",
        "print(model.summary())"
      ]
    },
    {
      "cell_type": "markdown",
      "source": [
        "### Compiling Model"
      ],
      "metadata": {
        "id": "RCrJX50F3VNC"
      }
    },
    {
      "cell_type": "code",
      "execution_count": 10,
      "metadata": {
        "id": "sMOaz7kO-Uph"
      },
      "outputs": [],
      "source": [
        "model.compile(optimizer=tf.keras.optimizers.Adam(lr=0.0001), loss='categorical_crossentropy', metrics=['accuracy'])"
      ]
    },
    {
      "cell_type": "markdown",
      "metadata": {
        "id": "M2kM9dr8tYHP"
      },
      "source": [
        "## Neural Network Visulaization"
      ]
    },
    {
      "cell_type": "code",
      "execution_count": 11,
      "metadata": {
        "colab": {
          "base_uri": "https://localhost:8080/",
          "height": 80
        },
        "id": "_rVd96n7tOHh",
        "outputId": "c5534757-539f-48a1-cd38-567bf3cd835e"
      },
      "outputs": [
        {
          "output_type": "execute_result",
          "data": {
            "text/plain": [
              "<PIL.Image.Image image mode=RGBA size=782x63 at 0x7FC4FB11BDD0>"
            ],
            "image/png": "[encoded data removed]"
          },
          "metadata": {},
          "execution_count": 11
        }
      ],
      "source": [
        "visualkeras.layered_view(model, legend=True)"
      ]
    },
    {
      "cell_type": "markdown",
      "metadata": {
        "id": "Y_-xrtDhtn5a"
      },
      "source": [
        "## Fine Tunning Resnet50 Neural Network"
      ]
    },
    {
      "cell_type": "code",
      "execution_count": 12,
      "metadata": {
        "colab": {
          "base_uri": "https://localhost:8080/"
        },
        "id": "l_9fZbAAtiYE",
        "outputId": "5cb068e8-2d59-43ff-c458-c1901087e641"
      },
      "outputs": [
        {
          "output_type": "stream",
          "name": "stdout",
          "text": [
            "Epoch 1/7\n",
            "281/281 [==============================] - 119s 345ms/step - loss: 0.7198 - accuracy: 0.8097 - val_loss: 2.5317 - val_accuracy: 0.2577\n",
            "Epoch 2/7\n",
            "281/281 [==============================] - 94s 330ms/step - loss: 0.3327 - accuracy: 0.8810 - val_loss: 1.0071 - val_accuracy: 0.6050\n",
            "Epoch 3/7\n",
            "281/281 [==============================] - 94s 331ms/step - loss: 0.2877 - accuracy: 0.8981 - val_loss: 0.4172 - val_accuracy: 0.8563\n",
            "Epoch 4/7\n",
            "281/281 [==============================] - 94s 329ms/step - loss: 0.2504 - accuracy: 0.9127 - val_loss: 0.4096 - val_accuracy: 0.8663\n",
            "Epoch 5/7\n",
            "281/281 [==============================] - 95s 334ms/step - loss: 0.2357 - accuracy: 0.9170 - val_loss: 0.2415 - val_accuracy: 0.9157\n",
            "Epoch 6/7\n",
            "281/281 [==============================] - 94s 331ms/step - loss: 0.2132 - accuracy: 0.9228 - val_loss: 0.2815 - val_accuracy: 0.9103\n",
            "Epoch 7/7\n",
            "281/281 [==============================] - 95s 335ms/step - loss: 0.2014 - accuracy: 0.9273 - val_loss: 0.2616 - val_accuracy: 0.9120\n"
          ]
        }
      ],
      "source": [
        "with tf.device(tf.DeviceSpec(device_type=\"GPU\", device_index=1)):\n",
        "  history = model.fit_generator(generator=train_generator,validation_data=validation_generator,epochs=7,workers=4)"
      ]
    },
    {
      "cell_type": "markdown",
      "source": [
        "## Model Evaluation"
      ],
      "metadata": {
        "id": "jpqfvtq_tTPY"
      }
    },
    {
      "cell_type": "code",
      "execution_count": 13,
      "metadata": {
        "id": "6iHdwMeuBJl_",
        "colab": {
          "base_uri": "https://localhost:8080/",
          "height": 404
        },
        "outputId": "2587d04c-f2c1-40fe-f3c2-f43d16256709"
      },
      "outputs": [
        {
          "output_type": "display_data",
          "data": {
            "text/plain": [
              "<Figure size 720x432 with 1 Axes>"
            ],
            "image/png": "[encoded data removed]"
          },
          "metadata": {
            "needs_background": "light"
          }
        }
      ],
      "source": [
        "plt.figure(figsize=(10,6))\n",
        "plt.plot(history.history['loss'],'-x');\n",
        "plt.plot(history.history['val_loss'],'-o')\n",
        "plt.legend(['Train Loss','Val Loss'])\n",
        "plt.title('Epoch Vs. Loss')\n",
        "plt.ylabel('Loss')\n",
        "plt.xlabel('Epoch');"
      ]
    },
    {
      "cell_type": "code",
      "source": [
        "plt.figure(figsize=(10,6))\n",
        "plt.plot(history.history['accuracy'],'-x');\n",
        "plt.plot(history.history['val_accuracy'],'-o')\n",
        "plt.legend(['Train Accuracy','Val Accuracy'])\n",
        "plt.title('Epoch Vs. Accuracy')\n",
        "plt.ylabel('Accuracy')\n",
        "plt.xlabel('Epoch');"
      ],
      "metadata": {
        "colab": {
          "base_uri": "https://localhost:8080/",
          "height": 404
        },
        "id": "8W_Fz00YwlQm",
        "outputId": "462aa21a-0e92-4351-ecbc-2614d8771fdf"
      },
      "execution_count": 14,
      "outputs": [
        {
          "output_type": "display_data",
          "data": {
            "text/plain": [
              "<Figure size 720x432 with 1 Axes>"
            ],
            "image/png": "[encoded data removed]"
          },
          "metadata": {
            "needs_background": "light"
          }
        }
      ]
    },
    {
      "cell_type": "markdown",
      "source": [
        "## Predicting  with input images using Gradio GUI"
      ],
      "metadata": {
        "id": "pr6awCfMwqmZ"
      }
    },
    {
      "cell_type": "code",
      "source": [
        "!pip install gradio -q"
      ],
      "metadata": {
        "id": "iBBzA4PIwnpT"
      },
      "execution_count": null,
      "outputs": []
    },
    {
      "cell_type": "code",
      "source": [
        "from keras.preprocessing import image\n",
        "import gradio as gr"
      ],
      "metadata": {
        "id": "yZx2OmqmxRmF"
      },
      "execution_count": 16,
      "outputs": []
    },
    {
      "cell_type": "code",
      "source": [
        "labels = list(validation_generator.class_indices.keys())\n",
        "def pred_img(img): \n",
        "  test_image = image.img_to_array(img)\n",
        "  img_rescale = image.img_to_array(img)/255\n",
        "  img_expand = np.expand_dims(img_rescale, axis = 0)\n",
        "  pred_proba = model.predict(img_expand)\n",
        "  result = labels[pred_proba.argmax()]\n",
        "  return result"
      ],
      "metadata": {
        "id": "r-_ameq2xdpO"
      },
      "execution_count": 37,
      "outputs": []
    },
    {
      "cell_type": "code",
      "source": [
        "gui = gr.Interface(pred_img, gr.Image(shape=(150, 150)), outputs=\"text\",title='Landmark Detector')\n",
        "gui.launch()"
      ],
      "metadata": {
        "colab": {
          "base_uri": "https://localhost:8080/",
          "height": 643
        },
        "id": "huKQrdtS1Tc2",
        "outputId": "9ae91702-5a5a-457b-b4bc-2fab22baca06"
      },
      "execution_count": 38,
      "outputs": [
        {
          "output_type": "stream",
          "name": "stdout",
          "text": [
            "Colab notebook detected. To show errors in colab notebook, set `debug=True` in `launch()`\n",
            "Running on public URL: https://11739.gradio.app\n",
            "\n",
            "This share link expires in 72 hours. For free permanent hosting, check out Spaces (https://huggingface.co/spaces)\n"
          ]
        },
        {
          "output_type": "display_data",
          "data": {
            "text/plain": [
              "<IPython.core.display.HTML object>"
            ],
            "text/html": [
              "<div><iframe src=\"https://11739.gradio.app\" width=\"900\" height=\"500\" allow=\"autoplay; camera; microphone;\" frameborder=\"0\" allowfullscreen></iframe></div>"
            ]
          },
          "metadata": {}
        },
        {
          "output_type": "execute_result",
          "data": {
            "text/plain": [
              "(<gradio.routes.App at 0x7fc1ce390d90>,\n",
              " 'http://127.0.0.1:7863/',\n",
              " 'https://11739.gradio.app')"
            ]
          },
          "metadata": {},
          "execution_count": 38
        }
      ]
    },
    {
      "cell_type": "code",
      "source": [
        ""
      ],
      "metadata": {
        "id": "YkMrQM0l2JTO"
      },
      "execution_count": null,
      "outputs": []
    }
  ],
  "metadata": {
    "accelerator": "GPU",
    "colab": {
      "collapsed_sections": [],
      "name": "Intel_Dataset_Image_Classification.ipynb",
      "provenance": []
    },
    "gpuClass": "standard",
    "kernelspec": {
      "display_name": "Python 3",
      "name": "python3"
    },
    "language_info": {
      "name": "python"
    }
  },
  "nbformat": 4,
  "nbformat_minor": 0
}