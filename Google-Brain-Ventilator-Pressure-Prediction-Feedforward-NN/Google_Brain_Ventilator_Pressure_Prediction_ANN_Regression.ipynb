{
  "cells": [
    {
      "cell_type": "markdown",
      "metadata": {
        "id": "SBH1HdEe45M_"
      },
      "source": [
        "# Google Brain - Ventilator Pressure Prediction\n",
        "\n",
        "##Simulate a ventilator connected to a sedated patient's lung\n",
        "\n",
        "\n",
        "\n",
        "What do doctors do when a patient has trouble breathing? They use a ventilator to pump oxygen into a sedated patient's lungs via a tube in the windpipe. But mechanical ventilation is a clinician-intensive procedure, a limitation that was prominently on display during the early days of the COVID-19 pandemic. At the same time, developing new methods for controlling mechanical ventilators is prohibitively expensive, even before reaching clinical trials. High-quality simulators could reduce this barrier.\n",
        "\n",
        "Current simulators are trained as an ensemble, where each model simulates a single lung setting. However, lungs and their attributes form a continuous space, so a parametric approach must be explored that would consider the differences in patient lungs.\n",
        "\n",
        "Partnering with Princeton University, the team at Google Brain aims to grow the community around machine learning for mechanical ventilation control. They believe that neural networks and deep learning can better generalize across lungs with varying characteristics than the current industry standard of PID controllers.\n",
        "\n",
        "In this competition, you’ll simulate a ventilator connected to a sedated patient's lung. The best submissions will take lung attributes compliance and resistance into account.\n",
        "\n",
        "If successful, you'll help overcome the cost barrier of developing new methods for controlling mechanical ventilators. This will pave the way for algorithms that adapt to patients and reduce the burden on clinicians during these novel times and beyond. As a result, ventilator treatments may become more widely available to help patients breathe.\n",
        "\n",
        "\n"
      ]
    },
    {
      "cell_type": "markdown",
      "metadata": {
        "id": "YEcLzW5B6X0S"
      },
      "source": [
        "## Data Description\n",
        "\n",
        "The ventilator data used in this competition was produced using a modified open-source ventilator connected to an artificial bellows test lung via a respiratory circuit. The diagram below illustrates the setup, with the two control inputs highlighted in green and the state variable (airway pressure) to predict in blue. The first control input is a continuous variable from 0 to 100 representing the percentage the inspiratory solenoid valve is open to let air into the lung (i.e., 0 is completely closed and no air is let in and 100 is completely open). The second control input is a binary variable representing whether the exploratory valve is open (1) or closed (0) to let air out.\n",
        "\n",
        "In this competition, participants are given numerous time series of breaths and will learn to predict the airway pressure in the respiratory circuit during the breath, given the time series of control inputs.\n",
        "\n",
        "![image.png](data:image/png;base64,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)\n",
        "\n",
        "\n",
        "Each time series represents an approximately 3-second breath. The files are organized such that each row is a time step in a breath and gives the two control signals, the resulting airway pressure, and relevant attributes of the lung, described below.\n",
        "\n",
        "\n",
        "## Files\n",
        "> train.csv - the training set\n",
        "\n",
        "> test.csv - the test set\n",
        "\n",
        "> sample_submission.csv - a sample submission file in the correct format"
      ]
    },
    {
      "cell_type": "markdown",
      "metadata": {
        "id": "73Gog-dv64bg"
      },
      "source": [
        "## Columns\n",
        "> id - globally-unique time step identifier across an entire file\n",
        "\n",
        "> breath_id - globally-unique time step for breaths\n",
        "\n",
        "> R - lung attribute indicating how restricted the airway is (in cmH2O/L/S). Physically, this is the change in pressure per change in flow (air volume per time). Intuitively, one can imagine blowing up a balloon through a straw. We can change R by changing the diameter of the straw, with higher R being harder to blow.\n",
        "\n",
        "> C - lung attribute indicating how compliant the lung is (in mL/cmH2O). Physically, this is the change in volume per change in pressure. Intuitively, one can imagine the same balloon example. We can change C by changing the thickness of the balloon’s latex, with higher C having thinner latex and easier to blow.\n",
        "\n",
        "> time_step - the actual time stamp.\n",
        "u_in - the control input for the inspiratory solenoid valve. Ranges from 0 to 100.\n",
        "\n",
        "> u_out - the control input for the exploratory solenoid valve. Either 0 or 1.\n",
        "pressure - the airway pressure measured in the respiratory circuit, measured in cmH2O."
      ]
    },
    {
      "cell_type": "markdown",
      "metadata": {
        "id": "b7Sdqrw07FLy"
      },
      "source": [
        "## Install Libraries"
      ]
    },
    {
      "cell_type": "code",
      "execution_count": 1,
      "metadata": {
        "id": "qV_6O3GP4127"
      },
      "outputs": [],
      "source": [
        "!pip install opendatasets scikeras -q"
      ]
    },
    {
      "cell_type": "markdown",
      "metadata": {
        "id": "kJjuDWeu7Sm1"
      },
      "source": [
        "## Import Libraries"
      ]
    },
    {
      "cell_type": "code",
      "execution_count": 2,
      "metadata": {
        "id": "_h06swue7Qw_"
      },
      "outputs": [],
      "source": [
        "import opendatasets as od\n",
        "import pandas as pd\n",
        "import numpy as np\n",
        "import matplotlib.pyplot as plt\n",
        "%matplotlib inline\n",
        "import os"
      ]
    },
    {
      "cell_type": "code",
      "execution_count": 3,
      "metadata": {
        "id": "qn62dD5ODS8r"
      },
      "outputs": [],
      "source": [
        "from sklearn.model_selection import train_test_split, GridSearchCV\n",
        "from sklearn.preprocessing import StandardScaler\n",
        "import tensorflow as tf\n",
        "from tensorflow.keras.models import Sequential\n",
        "from tensorflow.keras.layers import Dense\n",
        "from scikeras.wrappers import KerasRegressor"
      ]
    },
    {
      "cell_type": "markdown",
      "metadata": {
        "id": "dkiXeURZ7nM9"
      },
      "source": [
        "## Download The Dataset"
      ]
    },
    {
      "cell_type": "code",
      "execution_count": 7,
      "metadata": {
        "colab": {
          "base_uri": "https://localhost:8080/"
        },
        "id": "uAMTRkF07l84",
        "outputId": "7b874862-baab-4e2f-db9b-8bc98e7f8c62"
      },
      "outputs": [
        {
          "output_type": "stream",
          "name": "stdout",
          "text": [
            "Please provide your Kaggle credentials to download this dataset. Learn more: http://bit.ly/kaggle-creds\n",
            "Your Kaggle username: omjiverma\n",
            "Your Kaggle Key: ··········\n",
            "Downloading ventilator-pressure-prediction.zip to ./ventilator-pressure-prediction\n"
          ]
        },
        {
          "output_type": "stream",
          "name": "stderr",
          "text": [
            "100%|██████████| 223M/223M [00:01<00:00, 128MB/s] \n"
          ]
        },
        {
          "output_type": "stream",
          "name": "stdout",
          "text": [
            "\n",
            "Extracting archive ./ventilator-pressure-prediction/ventilator-pressure-prediction.zip to ./ventilator-pressure-prediction\n"
          ]
        }
      ],
      "source": [
        "od.download('https://www.kaggle.com/competitions/ventilator-pressure-prediction/data')"
      ]
    },
    {
      "cell_type": "markdown",
      "metadata": {
        "id": "mTV7S-MY8IzS"
      },
      "source": [
        "## Check the downloaded folder"
      ]
    },
    {
      "cell_type": "code",
      "execution_count": 4,
      "metadata": {
        "id": "2-fPenHZ7xbX"
      },
      "outputs": [],
      "source": [
        "path='./ventilator-pressure-prediction'"
      ]
    },
    {
      "cell_type": "code",
      "execution_count": 5,
      "metadata": {
        "colab": {
          "base_uri": "https://localhost:8080/"
        },
        "id": "F9P47Iiw8Nm5",
        "outputId": "325458cd-464b-4407-c1b1-649209d23520"
      },
      "outputs": [
        {
          "output_type": "execute_result",
          "data": {
            "text/plain": [
              "['sample_submission.csv', 'train.csv', 'test.csv']"
            ]
          },
          "metadata": {},
          "execution_count": 5
        }
      ],
      "source": [
        "os.listdir(path)"
      ]
    },
    {
      "cell_type": "markdown",
      "metadata": {
        "id": "rQ67DuGr77lT"
      },
      "source": [
        "## Load the Dataset"
      ]
    },
    {
      "cell_type": "code",
      "execution_count": 6,
      "metadata": {
        "id": "nvtwJxFn8G3v"
      },
      "outputs": [],
      "source": [
        "train_df = pd.read_csv(path+'/train.csv')\n",
        "test_df = pd.read_csv(path+'/test.csv')\n",
        "sample_subm = pd.read_csv(path+'/sample_submission.csv')"
      ]
    },
    {
      "cell_type": "markdown",
      "metadata": {
        "id": "WM2MneG-8xmZ"
      },
      "source": [
        "## Display the dataset"
      ]
    },
    {
      "cell_type": "code",
      "execution_count": 7,
      "metadata": {
        "colab": {
          "base_uri": "https://localhost:8080/",
          "height": 424
        },
        "id": "SHhvh-y78urG",
        "outputId": "355cf99f-ebb6-4b8e-80b7-d47fe3bf7d11"
      },
      "outputs": [
        {
          "output_type": "execute_result",
          "data": {
            "text/plain": [
              "              id  breath_id   R   C  time_step       u_in  u_out   pressure\n",
              "0              1          1  20  50   0.000000   0.083334      0   5.837492\n",
              "1              2          1  20  50   0.033652  18.383041      0   5.907794\n",
              "2              3          1  20  50   0.067514  22.509278      0   7.876254\n",
              "3              4          1  20  50   0.101542  22.808822      0  11.742872\n",
              "4              5          1  20  50   0.135756  25.355850      0  12.234987\n",
              "...          ...        ...  ..  ..        ...        ...    ...        ...\n",
              "6035995  6035996     125749  50  10   2.504603   1.489714      1   3.869032\n",
              "6035996  6035997     125749  50  10   2.537961   1.488497      1   3.869032\n",
              "6035997  6035998     125749  50  10   2.571408   1.558978      1   3.798729\n",
              "6035998  6035999     125749  50  10   2.604744   1.272663      1   4.079938\n",
              "6035999  6036000     125749  50  10   2.638017   1.482739      1   3.869032\n",
              "\n",
              "[6036000 rows x 8 columns]"
            ],
            "text/html": [
              "\n",
              "  <div id=\"df-38d8ac55-b8ef-485d-8633-05017c9bd284\">\n",
              "    <div class=\"colab-df-container\">\n",
              "      <div>\n",
              "<style scoped>\n",
              "    .dataframe tbody tr th:only-of-type {\n",
              "        vertical-align: middle;\n",
              "    }\n",
              "\n",
              "    .dataframe tbody tr th {\n",
              "        vertical-align: top;\n",
              "    }\n",
              "\n",
              "    .dataframe thead th {\n",
              "        text-align: right;\n",
              "    }\n",
              "</style>\n",
              "<table border=\"1\" class=\"dataframe\">\n",
              "  <thead>\n",
              "    <tr style=\"text-align: right;\">\n",
              "      <th></th>\n",
              "      <th>id</th>\n",
              "      <th>breath_id</th>\n",
              "      <th>R</th>\n",
              "      <th>C</th>\n",
              "      <th>time_step</th>\n",
              "      <th>u_in</th>\n",
              "      <th>u_out</th>\n",
              "      <th>pressure</th>\n",
              "    </tr>\n",
              "  </thead>\n",
              "  <tbody>\n",
              "    <tr>\n",
              "      <th>0</th>\n",
              "      <td>1</td>\n",
              "      <td>1</td>\n",
              "      <td>20</td>\n",
              "      <td>50</td>\n",
              "      <td>0.000000</td>\n",
              "      <td>0.083334</td>\n",
              "      <td>0</td>\n",
              "      <td>5.837492</td>\n",
              "    </tr>\n",
              "    <tr>\n",
              "      <th>1</th>\n",
              "      <td>2</td>\n",
              "      <td>1</td>\n",
              "      <td>20</td>\n",
              "      <td>50</td>\n",
              "      <td>0.033652</td>\n",
              "      <td>18.383041</td>\n",
              "      <td>0</td>\n",
              "      <td>5.907794</td>\n",
              "    </tr>\n",
              "    <tr>\n",
              "      <th>2</th>\n",
              "      <td>3</td>\n",
              "      <td>1</td>\n",
              "      <td>20</td>\n",
              "      <td>50</td>\n",
              "      <td>0.067514</td>\n",
              "      <td>22.509278</td>\n",
              "      <td>0</td>\n",
              "      <td>7.876254</td>\n",
              "    </tr>\n",
              "    <tr>\n",
              "      <th>3</th>\n",
              "      <td>4</td>\n",
              "      <td>1</td>\n",
              "      <td>20</td>\n",
              "      <td>50</td>\n",
              "      <td>0.101542</td>\n",
              "      <td>22.808822</td>\n",
              "      <td>0</td>\n",
              "      <td>11.742872</td>\n",
              "    </tr>\n",
              "    <tr>\n",
              "      <th>4</th>\n",
              "      <td>5</td>\n",
              "      <td>1</td>\n",
              "      <td>20</td>\n",
              "      <td>50</td>\n",
              "      <td>0.135756</td>\n",
              "      <td>25.355850</td>\n",
              "      <td>0</td>\n",
              "      <td>12.234987</td>\n",
              "    </tr>\n",
              "    <tr>\n",
              "      <th>...</th>\n",
              "      <td>...</td>\n",
              "      <td>...</td>\n",
              "      <td>...</td>\n",
              "      <td>...</td>\n",
              "      <td>...</td>\n",
              "      <td>...</td>\n",
              "      <td>...</td>\n",
              "      <td>...</td>\n",
              "    </tr>\n",
              "    <tr>\n",
              "      <th>6035995</th>\n",
              "      <td>6035996</td>\n",
              "      <td>125749</td>\n",
              "      <td>50</td>\n",
              "      <td>10</td>\n",
              "      <td>2.504603</td>\n",
              "      <td>1.489714</td>\n",
              "      <td>1</td>\n",
              "      <td>3.869032</td>\n",
              "    </tr>\n",
              "    <tr>\n",
              "      <th>6035996</th>\n",
              "      <td>6035997</td>\n",
              "      <td>125749</td>\n",
              "      <td>50</td>\n",
              "      <td>10</td>\n",
              "      <td>2.537961</td>\n",
              "      <td>1.488497</td>\n",
              "      <td>1</td>\n",
              "      <td>3.869032</td>\n",
              "    </tr>\n",
              "    <tr>\n",
              "      <th>6035997</th>\n",
              "      <td>6035998</td>\n",
              "      <td>125749</td>\n",
              "      <td>50</td>\n",
              "      <td>10</td>\n",
              "      <td>2.571408</td>\n",
              "      <td>1.558978</td>\n",
              "      <td>1</td>\n",
              "      <td>3.798729</td>\n",
              "    </tr>\n",
              "    <tr>\n",
              "      <th>6035998</th>\n",
              "      <td>6035999</td>\n",
              "      <td>125749</td>\n",
              "      <td>50</td>\n",
              "      <td>10</td>\n",
              "      <td>2.604744</td>\n",
              "      <td>1.272663</td>\n",
              "      <td>1</td>\n",
              "      <td>4.079938</td>\n",
              "    </tr>\n",
              "    <tr>\n",
              "      <th>6035999</th>\n",
              "      <td>6036000</td>\n",
              "      <td>125749</td>\n",
              "      <td>50</td>\n",
              "      <td>10</td>\n",
              "      <td>2.638017</td>\n",
              "      <td>1.482739</td>\n",
              "      <td>1</td>\n",
              "      <td>3.869032</td>\n",
              "    </tr>\n",
              "  </tbody>\n",
              "</table>\n",
              "<p>6036000 rows × 8 columns</p>\n",
              "</div>\n",
              "      <button class=\"colab-df-convert\" onclick=\"convertToInteractive('df-38d8ac55-b8ef-485d-8633-05017c9bd284')\"\n",
              "              title=\"Convert this dataframe to an interactive table.\"\n",
              "              style=\"display:none;\">\n",
              "        \n",
              "  <svg xmlns=\"http://www.w3.org/2000/svg\" height=\"24px\"viewBox=\"0 0 24 24\"\n",
              "       width=\"24px\">\n",
              "    <path d=\"M0 0h24v24H0V0z\" fill=\"none\"/>\n",
              "    <path d=\"M18.56 5.44l.94 2.06.94-2.06 2.06-.94-2.06-.94-.94-2.06-.94 2.06-2.06.94zm-11 1L8.5 8.5l.94-2.06 2.06-.94-2.06-.94L8.5 2.5l-.94 2.06-2.06.94zm10 10l.94 2.06.94-2.06 2.06-.94-2.06-.94-.94-2.06-.94 2.06-2.06.94z\"/><path d=\"M17.41 7.96l-1.37-1.37c-.4-.4-.92-.59-1.43-.59-.52 0-1.04.2-1.43.59L10.3 9.45l-7.72 7.72c-.78.78-.78 2.05 0 2.83L4 21.41c.39.39.9.59 1.41.59.51 0 1.02-.2 1.41-.59l7.78-7.78 2.81-2.81c.8-.78.8-2.07 0-2.86zM5.41 20L4 18.59l7.72-7.72 1.47 1.35L5.41 20z\"/>\n",
              "  </svg>\n",
              "      </button>\n",
              "      \n",
              "  <style>\n",
              "    .colab-df-container {\n",
              "      display:flex;\n",
              "      flex-wrap:wrap;\n",
              "      gap: 12px;\n",
              "    }\n",
              "\n",
              "    .colab-df-convert {\n",
              "      background-color: #E8F0FE;\n",
              "      border: none;\n",
              "      border-radius: 50%;\n",
              "      cursor: pointer;\n",
              "      display: none;\n",
              "      fill: #1967D2;\n",
              "      height: 32px;\n",
              "      padding: 0 0 0 0;\n",
              "      width: 32px;\n",
              "    }\n",
              "\n",
              "    .colab-df-convert:hover {\n",
              "      background-color: #E2EBFA;\n",
              "      box-shadow: 0px 1px 2px rgba(60, 64, 67, 0.3), 0px 1px 3px 1px rgba(60, 64, 67, 0.15);\n",
              "      fill: #174EA6;\n",
              "    }\n",
              "\n",
              "    [theme=dark] .colab-df-convert {\n",
              "      background-color: #3B4455;\n",
              "      fill: #D2E3FC;\n",
              "    }\n",
              "\n",
              "    [theme=dark] .colab-df-convert:hover {\n",
              "      background-color: #434B5C;\n",
              "      box-shadow: 0px 1px 3px 1px rgba(0, 0, 0, 0.15);\n",
              "      filter: drop-shadow(0px 1px 2px rgba(0, 0, 0, 0.3));\n",
              "      fill: #FFFFFF;\n",
              "    }\n",
              "  </style>\n",
              "\n",
              "      <script>\n",
              "        const buttonEl =\n",
              "          document.querySelector('#df-38d8ac55-b8ef-485d-8633-05017c9bd284 button.colab-df-convert');\n",
              "        buttonEl.style.display =\n",
              "          google.colab.kernel.accessAllowed ? 'block' : 'none';\n",
              "\n",
              "        async function convertToInteractive(key) {\n",
              "          const element = document.querySelector('#df-38d8ac55-b8ef-485d-8633-05017c9bd284');\n",
              "          const dataTable =\n",
              "            await google.colab.kernel.invokeFunction('convertToInteractive',\n",
              "                                                     [key], {});\n",
              "          if (!dataTable) return;\n",
              "\n",
              "          const docLinkHtml = 'Like what you see? Visit the ' +\n",
              "            '<a target=\"_blank\" href=https://colab.research.google.com/notebooks/data_table.ipynb>data table notebook</a>'\n",
              "            + ' to learn more about interactive tables.';\n",
              "          element.innerHTML = '';\n",
              "          dataTable['output_type'] = 'display_data';\n",
              "          await google.colab.output.renderOutput(dataTable, element);\n",
              "          const docLink = document.createElement('div');\n",
              "          docLink.innerHTML = docLinkHtml;\n",
              "          element.appendChild(docLink);\n",
              "        }\n",
              "      </script>\n",
              "    </div>\n",
              "  </div>\n",
              "  "
            ]
          },
          "metadata": {},
          "execution_count": 7
        }
      ],
      "source": [
        "train_df"
      ]
    },
    {
      "cell_type": "code",
      "execution_count": 8,
      "metadata": {
        "colab": {
          "base_uri": "https://localhost:8080/",
          "height": 424
        },
        "id": "xW4vt25T84j8",
        "outputId": "03e6e30a-fcd5-47dc-d81a-70fe4a8746f5"
      },
      "outputs": [
        {
          "output_type": "execute_result",
          "data": {
            "text/plain": [
              "              id  breath_id   R   C  time_step       u_in  u_out\n",
              "0              1          0   5  20   0.000000   0.000000      0\n",
              "1              2          0   5  20   0.031904   7.515046      0\n",
              "2              3          0   5  20   0.063827  14.651675      0\n",
              "3              4          0   5  20   0.095751  21.230610      0\n",
              "4              5          0   5  20   0.127644  26.320956      0\n",
              "...          ...        ...  ..  ..        ...        ...    ...\n",
              "4023995  4023996     125748  20  10   2.530117   4.971245      1\n",
              "4023996  4023997     125748  20  10   2.563853   4.975709      1\n",
              "4023997  4023998     125748  20  10   2.597475   4.979468      1\n",
              "4023998  4023999     125748  20  10   2.631134   4.982648      1\n",
              "4023999  4024000     125748  20  10   2.665301   4.985373      1\n",
              "\n",
              "[4024000 rows x 7 columns]"
            ],
            "text/html": [
              "\n",
              "  <div id=\"df-eee2c3cc-e0c7-4ecb-a078-002f24c8db14\">\n",
              "    <div class=\"colab-df-container\">\n",
              "      <div>\n",
              "<style scoped>\n",
              "    .dataframe tbody tr th:only-of-type {\n",
              "        vertical-align: middle;\n",
              "    }\n",
              "\n",
              "    .dataframe tbody tr th {\n",
              "        vertical-align: top;\n",
              "    }\n",
              "\n",
              "    .dataframe thead th {\n",
              "        text-align: right;\n",
              "    }\n",
              "</style>\n",
              "<table border=\"1\" class=\"dataframe\">\n",
              "  <thead>\n",
              "    <tr style=\"text-align: right;\">\n",
              "      <th></th>\n",
              "      <th>id</th>\n",
              "      <th>breath_id</th>\n",
              "      <th>R</th>\n",
              "      <th>C</th>\n",
              "      <th>time_step</th>\n",
              "      <th>u_in</th>\n",
              "      <th>u_out</th>\n",
              "    </tr>\n",
              "  </thead>\n",
              "  <tbody>\n",
              "    <tr>\n",
              "      <th>0</th>\n",
              "      <td>1</td>\n",
              "      <td>0</td>\n",
              "      <td>5</td>\n",
              "      <td>20</td>\n",
              "      <td>0.000000</td>\n",
              "      <td>0.000000</td>\n",
              "      <td>0</td>\n",
              "    </tr>\n",
              "    <tr>\n",
              "      <th>1</th>\n",
              "      <td>2</td>\n",
              "      <td>0</td>\n",
              "      <td>5</td>\n",
              "      <td>20</td>\n",
              "      <td>0.031904</td>\n",
              "      <td>7.515046</td>\n",
              "      <td>0</td>\n",
              "    </tr>\n",
              "    <tr>\n",
              "      <th>2</th>\n",
              "      <td>3</td>\n",
              "      <td>0</td>\n",
              "      <td>5</td>\n",
              "      <td>20</td>\n",
              "      <td>0.063827</td>\n",
              "      <td>14.651675</td>\n",
              "      <td>0</td>\n",
              "    </tr>\n",
              "    <tr>\n",
              "      <th>3</th>\n",
              "      <td>4</td>\n",
              "      <td>0</td>\n",
              "      <td>5</td>\n",
              "      <td>20</td>\n",
              "      <td>0.095751</td>\n",
              "      <td>21.230610</td>\n",
              "      <td>0</td>\n",
              "    </tr>\n",
              "    <tr>\n",
              "      <th>4</th>\n",
              "      <td>5</td>\n",
              "      <td>0</td>\n",
              "      <td>5</td>\n",
              "      <td>20</td>\n",
              "      <td>0.127644</td>\n",
              "      <td>26.320956</td>\n",
              "      <td>0</td>\n",
              "    </tr>\n",
              "    <tr>\n",
              "      <th>...</th>\n",
              "      <td>...</td>\n",
              "      <td>...</td>\n",
              "      <td>...</td>\n",
              "      <td>...</td>\n",
              "      <td>...</td>\n",
              "      <td>...</td>\n",
              "      <td>...</td>\n",
              "    </tr>\n",
              "    <tr>\n",
              "      <th>4023995</th>\n",
              "      <td>4023996</td>\n",
              "      <td>125748</td>\n",
              "      <td>20</td>\n",
              "      <td>10</td>\n",
              "      <td>2.530117</td>\n",
              "      <td>4.971245</td>\n",
              "      <td>1</td>\n",
              "    </tr>\n",
              "    <tr>\n",
              "      <th>4023996</th>\n",
              "      <td>4023997</td>\n",
              "      <td>125748</td>\n",
              "      <td>20</td>\n",
              "      <td>10</td>\n",
              "      <td>2.563853</td>\n",
              "      <td>4.975709</td>\n",
              "      <td>1</td>\n",
              "    </tr>\n",
              "    <tr>\n",
              "      <th>4023997</th>\n",
              "      <td>4023998</td>\n",
              "      <td>125748</td>\n",
              "      <td>20</td>\n",
              "      <td>10</td>\n",
              "      <td>2.597475</td>\n",
              "      <td>4.979468</td>\n",
              "      <td>1</td>\n",
              "    </tr>\n",
              "    <tr>\n",
              "      <th>4023998</th>\n",
              "      <td>4023999</td>\n",
              "      <td>125748</td>\n",
              "      <td>20</td>\n",
              "      <td>10</td>\n",
              "      <td>2.631134</td>\n",
              "      <td>4.982648</td>\n",
              "      <td>1</td>\n",
              "    </tr>\n",
              "    <tr>\n",
              "      <th>4023999</th>\n",
              "      <td>4024000</td>\n",
              "      <td>125748</td>\n",
              "      <td>20</td>\n",
              "      <td>10</td>\n",
              "      <td>2.665301</td>\n",
              "      <td>4.985373</td>\n",
              "      <td>1</td>\n",
              "    </tr>\n",
              "  </tbody>\n",
              "</table>\n",
              "<p>4024000 rows × 7 columns</p>\n",
              "</div>\n",
              "      <button class=\"colab-df-convert\" onclick=\"convertToInteractive('df-eee2c3cc-e0c7-4ecb-a078-002f24c8db14')\"\n",
              "              title=\"Convert this dataframe to an interactive table.\"\n",
              "              style=\"display:none;\">\n",
              "        \n",
              "  <svg xmlns=\"http://www.w3.org/2000/svg\" height=\"24px\"viewBox=\"0 0 24 24\"\n",
              "       width=\"24px\">\n",
              "    <path d=\"M0 0h24v24H0V0z\" fill=\"none\"/>\n",
              "    <path d=\"M18.56 5.44l.94 2.06.94-2.06 2.06-.94-2.06-.94-.94-2.06-.94 2.06-2.06.94zm-11 1L8.5 8.5l.94-2.06 2.06-.94-2.06-.94L8.5 2.5l-.94 2.06-2.06.94zm10 10l.94 2.06.94-2.06 2.06-.94-2.06-.94-.94-2.06-.94 2.06-2.06.94z\"/><path d=\"M17.41 7.96l-1.37-1.37c-.4-.4-.92-.59-1.43-.59-.52 0-1.04.2-1.43.59L10.3 9.45l-7.72 7.72c-.78.78-.78 2.05 0 2.83L4 21.41c.39.39.9.59 1.41.59.51 0 1.02-.2 1.41-.59l7.78-7.78 2.81-2.81c.8-.78.8-2.07 0-2.86zM5.41 20L4 18.59l7.72-7.72 1.47 1.35L5.41 20z\"/>\n",
              "  </svg>\n",
              "      </button>\n",
              "      \n",
              "  <style>\n",
              "    .colab-df-container {\n",
              "      display:flex;\n",
              "      flex-wrap:wrap;\n",
              "      gap: 12px;\n",
              "    }\n",
              "\n",
              "    .colab-df-convert {\n",
              "      background-color: #E8F0FE;\n",
              "      border: none;\n",
              "      border-radius: 50%;\n",
              "      cursor: pointer;\n",
              "      display: none;\n",
              "      fill: #1967D2;\n",
              "      height: 32px;\n",
              "      padding: 0 0 0 0;\n",
              "      width: 32px;\n",
              "    }\n",
              "\n",
              "    .colab-df-convert:hover {\n",
              "      background-color: #E2EBFA;\n",
              "      box-shadow: 0px 1px 2px rgba(60, 64, 67, 0.3), 0px 1px 3px 1px rgba(60, 64, 67, 0.15);\n",
              "      fill: #174EA6;\n",
              "    }\n",
              "\n",
              "    [theme=dark] .colab-df-convert {\n",
              "      background-color: #3B4455;\n",
              "      fill: #D2E3FC;\n",
              "    }\n",
              "\n",
              "    [theme=dark] .colab-df-convert:hover {\n",
              "      background-color: #434B5C;\n",
              "      box-shadow: 0px 1px 3px 1px rgba(0, 0, 0, 0.15);\n",
              "      filter: drop-shadow(0px 1px 2px rgba(0, 0, 0, 0.3));\n",
              "      fill: #FFFFFF;\n",
              "    }\n",
              "  </style>\n",
              "\n",
              "      <script>\n",
              "        const buttonEl =\n",
              "          document.querySelector('#df-eee2c3cc-e0c7-4ecb-a078-002f24c8db14 button.colab-df-convert');\n",
              "        buttonEl.style.display =\n",
              "          google.colab.kernel.accessAllowed ? 'block' : 'none';\n",
              "\n",
              "        async function convertToInteractive(key) {\n",
              "          const element = document.querySelector('#df-eee2c3cc-e0c7-4ecb-a078-002f24c8db14');\n",
              "          const dataTable =\n",
              "            await google.colab.kernel.invokeFunction('convertToInteractive',\n",
              "                                                     [key], {});\n",
              "          if (!dataTable) return;\n",
              "\n",
              "          const docLinkHtml = 'Like what you see? Visit the ' +\n",
              "            '<a target=\"_blank\" href=https://colab.research.google.com/notebooks/data_table.ipynb>data table notebook</a>'\n",
              "            + ' to learn more about interactive tables.';\n",
              "          element.innerHTML = '';\n",
              "          dataTable['output_type'] = 'display_data';\n",
              "          await google.colab.output.renderOutput(dataTable, element);\n",
              "          const docLink = document.createElement('div');\n",
              "          docLink.innerHTML = docLinkHtml;\n",
              "          element.appendChild(docLink);\n",
              "        }\n",
              "      </script>\n",
              "    </div>\n",
              "  </div>\n",
              "  "
            ]
          },
          "metadata": {},
          "execution_count": 8
        }
      ],
      "source": [
        "test_df"
      ]
    },
    {
      "cell_type": "markdown",
      "metadata": {
        "id": "k6vzKySU9HNW"
      },
      "source": [
        "## Check num of null values in train_df and test_df"
      ]
    },
    {
      "cell_type": "code",
      "execution_count": 9,
      "metadata": {
        "colab": {
          "base_uri": "https://localhost:8080/"
        },
        "id": "e2qDt4Km9N8N",
        "outputId": "eb9a0b46-fc8f-44cc-bf12-be9ee341b706"
      },
      "outputs": [
        {
          "output_type": "execute_result",
          "data": {
            "text/plain": [
              "id           0\n",
              "breath_id    0\n",
              "R            0\n",
              "C            0\n",
              "time_step    0\n",
              "u_in         0\n",
              "u_out        0\n",
              "pressure     0\n",
              "dtype: int64"
            ]
          },
          "metadata": {},
          "execution_count": 9
        }
      ],
      "source": [
        "train_df.isna().sum()"
      ]
    },
    {
      "cell_type": "code",
      "execution_count": 10,
      "metadata": {
        "colab": {
          "base_uri": "https://localhost:8080/"
        },
        "id": "h4Q6lY0-9Shd",
        "outputId": "91fc5ec9-06c5-4263-aafa-4218127ab7ac"
      },
      "outputs": [
        {
          "output_type": "execute_result",
          "data": {
            "text/plain": [
              "id           0\n",
              "breath_id    0\n",
              "R            0\n",
              "C            0\n",
              "time_step    0\n",
              "u_in         0\n",
              "u_out        0\n",
              "dtype: int64"
            ]
          },
          "metadata": {},
          "execution_count": 10
        }
      ],
      "source": [
        "test_df.isna().sum()"
      ]
    },
    {
      "cell_type": "markdown",
      "metadata": {
        "id": "taRMGH2x-C4h"
      },
      "source": [
        "## Descriptive Stats"
      ]
    },
    {
      "cell_type": "code",
      "execution_count": 11,
      "metadata": {
        "colab": {
          "base_uri": "https://localhost:8080/",
          "height": 300
        },
        "id": "4AJByMyI-GcY",
        "outputId": "001c4d9a-fc68-4ce8-c3ad-0453cb874cb1"
      },
      "outputs": [
        {
          "output_type": "execute_result",
          "data": {
            "text/plain": [
              "                 id     breath_id             R             C     time_step  \\\n",
              "count  6.036000e+06  6.036000e+06  6.036000e+06  6.036000e+06  6.036000e+06   \n",
              "mean   3.018000e+06  6.283886e+04  2.703618e+01  2.608072e+01  1.307225e+00   \n",
              "std    1.742443e+06  3.633526e+04  1.959549e+01  1.715231e+01  7.659778e-01   \n",
              "min    1.000000e+00  1.000000e+00  5.000000e+00  1.000000e+01  0.000000e+00   \n",
              "25%    1.509001e+06  3.137700e+04  5.000000e+00  1.000000e+01  6.428995e-01   \n",
              "50%    3.018000e+06  6.276550e+04  2.000000e+01  2.000000e+01  1.308123e+00   \n",
              "75%    4.527000e+06  9.430100e+04  5.000000e+01  5.000000e+01  1.965502e+00   \n",
              "max    6.036000e+06  1.257490e+05  5.000000e+01  5.000000e+01  2.937238e+00   \n",
              "\n",
              "               u_in         u_out      pressure  \n",
              "count  6.036000e+06  6.036000e+06  6.036000e+06  \n",
              "mean   7.321615e+00  6.204493e-01  1.122041e+01  \n",
              "std    1.343470e+01  4.852752e-01  8.109703e+00  \n",
              "min    0.000000e+00  0.000000e+00 -1.895744e+00  \n",
              "25%    3.936623e-01  0.000000e+00  6.329607e+00  \n",
              "50%    4.386146e+00  1.000000e+00  7.032628e+00  \n",
              "75%    4.983895e+00  1.000000e+00  1.364103e+01  \n",
              "max    1.000000e+02  1.000000e+00  6.482099e+01  "
            ],
            "text/html": [
              "\n",
              "  <div id=\"df-4820bd05-0477-4ed1-ae6c-8a6bb9124bb8\">\n",
              "    <div class=\"colab-df-container\">\n",
              "      <div>\n",
              "<style scoped>\n",
              "    .dataframe tbody tr th:only-of-type {\n",
              "        vertical-align: middle;\n",
              "    }\n",
              "\n",
              "    .dataframe tbody tr th {\n",
              "        vertical-align: top;\n",
              "    }\n",
              "\n",
              "    .dataframe thead th {\n",
              "        text-align: right;\n",
              "    }\n",
              "</style>\n",
              "<table border=\"1\" class=\"dataframe\">\n",
              "  <thead>\n",
              "    <tr style=\"text-align: right;\">\n",
              "      <th></th>\n",
              "      <th>id</th>\n",
              "      <th>breath_id</th>\n",
              "      <th>R</th>\n",
              "      <th>C</th>\n",
              "      <th>time_step</th>\n",
              "      <th>u_in</th>\n",
              "      <th>u_out</th>\n",
              "      <th>pressure</th>\n",
              "    </tr>\n",
              "  </thead>\n",
              "  <tbody>\n",
              "    <tr>\n",
              "      <th>count</th>\n",
              "      <td>6.036000e+06</td>\n",
              "      <td>6.036000e+06</td>\n",
              "      <td>6.036000e+06</td>\n",
              "      <td>6.036000e+06</td>\n",
              "      <td>6.036000e+06</td>\n",
              "      <td>6.036000e+06</td>\n",
              "      <td>6.036000e+06</td>\n",
              "      <td>6.036000e+06</td>\n",
              "    </tr>\n",
              "    <tr>\n",
              "      <th>mean</th>\n",
              "      <td>3.018000e+06</td>\n",
              "      <td>6.283886e+04</td>\n",
              "      <td>2.703618e+01</td>\n",
              "      <td>2.608072e+01</td>\n",
              "      <td>1.307225e+00</td>\n",
              "      <td>7.321615e+00</td>\n",
              "      <td>6.204493e-01</td>\n",
              "      <td>1.122041e+01</td>\n",
              "    </tr>\n",
              "    <tr>\n",
              "      <th>std</th>\n",
              "      <td>1.742443e+06</td>\n",
              "      <td>3.633526e+04</td>\n",
              "      <td>1.959549e+01</td>\n",
              "      <td>1.715231e+01</td>\n",
              "      <td>7.659778e-01</td>\n",
              "      <td>1.343470e+01</td>\n",
              "      <td>4.852752e-01</td>\n",
              "      <td>8.109703e+00</td>\n",
              "    </tr>\n",
              "    <tr>\n",
              "      <th>min</th>\n",
              "      <td>1.000000e+00</td>\n",
              "      <td>1.000000e+00</td>\n",
              "      <td>5.000000e+00</td>\n",
              "      <td>1.000000e+01</td>\n",
              "      <td>0.000000e+00</td>\n",
              "      <td>0.000000e+00</td>\n",
              "      <td>0.000000e+00</td>\n",
              "      <td>-1.895744e+00</td>\n",
              "    </tr>\n",
              "    <tr>\n",
              "      <th>25%</th>\n",
              "      <td>1.509001e+06</td>\n",
              "      <td>3.137700e+04</td>\n",
              "      <td>5.000000e+00</td>\n",
              "      <td>1.000000e+01</td>\n",
              "      <td>6.428995e-01</td>\n",
              "      <td>3.936623e-01</td>\n",
              "      <td>0.000000e+00</td>\n",
              "      <td>6.329607e+00</td>\n",
              "    </tr>\n",
              "    <tr>\n",
              "      <th>50%</th>\n",
              "      <td>3.018000e+06</td>\n",
              "      <td>6.276550e+04</td>\n",
              "      <td>2.000000e+01</td>\n",
              "      <td>2.000000e+01</td>\n",
              "      <td>1.308123e+00</td>\n",
              "      <td>4.386146e+00</td>\n",
              "      <td>1.000000e+00</td>\n",
              "      <td>7.032628e+00</td>\n",
              "    </tr>\n",
              "    <tr>\n",
              "      <th>75%</th>\n",
              "      <td>4.527000e+06</td>\n",
              "      <td>9.430100e+04</td>\n",
              "      <td>5.000000e+01</td>\n",
              "      <td>5.000000e+01</td>\n",
              "      <td>1.965502e+00</td>\n",
              "      <td>4.983895e+00</td>\n",
              "      <td>1.000000e+00</td>\n",
              "      <td>1.364103e+01</td>\n",
              "    </tr>\n",
              "    <tr>\n",
              "      <th>max</th>\n",
              "      <td>6.036000e+06</td>\n",
              "      <td>1.257490e+05</td>\n",
              "      <td>5.000000e+01</td>\n",
              "      <td>5.000000e+01</td>\n",
              "      <td>2.937238e+00</td>\n",
              "      <td>1.000000e+02</td>\n",
              "      <td>1.000000e+00</td>\n",
              "      <td>6.482099e+01</td>\n",
              "    </tr>\n",
              "  </tbody>\n",
              "</table>\n",
              "</div>\n",
              "      <button class=\"colab-df-convert\" onclick=\"convertToInteractive('df-4820bd05-0477-4ed1-ae6c-8a6bb9124bb8')\"\n",
              "              title=\"Convert this dataframe to an interactive table.\"\n",
              "              style=\"display:none;\">\n",
              "        \n",
              "  <svg xmlns=\"http://www.w3.org/2000/svg\" height=\"24px\"viewBox=\"0 0 24 24\"\n",
              "       width=\"24px\">\n",
              "    <path d=\"M0 0h24v24H0V0z\" fill=\"none\"/>\n",
              "    <path d=\"M18.56 5.44l.94 2.06.94-2.06 2.06-.94-2.06-.94-.94-2.06-.94 2.06-2.06.94zm-11 1L8.5 8.5l.94-2.06 2.06-.94-2.06-.94L8.5 2.5l-.94 2.06-2.06.94zm10 10l.94 2.06.94-2.06 2.06-.94-2.06-.94-.94-2.06-.94 2.06-2.06.94z\"/><path d=\"M17.41 7.96l-1.37-1.37c-.4-.4-.92-.59-1.43-.59-.52 0-1.04.2-1.43.59L10.3 9.45l-7.72 7.72c-.78.78-.78 2.05 0 2.83L4 21.41c.39.39.9.59 1.41.59.51 0 1.02-.2 1.41-.59l7.78-7.78 2.81-2.81c.8-.78.8-2.07 0-2.86zM5.41 20L4 18.59l7.72-7.72 1.47 1.35L5.41 20z\"/>\n",
              "  </svg>\n",
              "      </button>\n",
              "      \n",
              "  <style>\n",
              "    .colab-df-container {\n",
              "      display:flex;\n",
              "      flex-wrap:wrap;\n",
              "      gap: 12px;\n",
              "    }\n",
              "\n",
              "    .colab-df-convert {\n",
              "      background-color: #E8F0FE;\n",
              "      border: none;\n",
              "      border-radius: 50%;\n",
              "      cursor: pointer;\n",
              "      display: none;\n",
              "      fill: #1967D2;\n",
              "      height: 32px;\n",
              "      padding: 0 0 0 0;\n",
              "      width: 32px;\n",
              "    }\n",
              "\n",
              "    .colab-df-convert:hover {\n",
              "      background-color: #E2EBFA;\n",
              "      box-shadow: 0px 1px 2px rgba(60, 64, 67, 0.3), 0px 1px 3px 1px rgba(60, 64, 67, 0.15);\n",
              "      fill: #174EA6;\n",
              "    }\n",
              "\n",
              "    [theme=dark] .colab-df-convert {\n",
              "      background-color: #3B4455;\n",
              "      fill: #D2E3FC;\n",
              "    }\n",
              "\n",
              "    [theme=dark] .colab-df-convert:hover {\n",
              "      background-color: #434B5C;\n",
              "      box-shadow: 0px 1px 3px 1px rgba(0, 0, 0, 0.15);\n",
              "      filter: drop-shadow(0px 1px 2px rgba(0, 0, 0, 0.3));\n",
              "      fill: #FFFFFF;\n",
              "    }\n",
              "  </style>\n",
              "\n",
              "      <script>\n",
              "        const buttonEl =\n",
              "          document.querySelector('#df-4820bd05-0477-4ed1-ae6c-8a6bb9124bb8 button.colab-df-convert');\n",
              "        buttonEl.style.display =\n",
              "          google.colab.kernel.accessAllowed ? 'block' : 'none';\n",
              "\n",
              "        async function convertToInteractive(key) {\n",
              "          const element = document.querySelector('#df-4820bd05-0477-4ed1-ae6c-8a6bb9124bb8');\n",
              "          const dataTable =\n",
              "            await google.colab.kernel.invokeFunction('convertToInteractive',\n",
              "                                                     [key], {});\n",
              "          if (!dataTable) return;\n",
              "\n",
              "          const docLinkHtml = 'Like what you see? Visit the ' +\n",
              "            '<a target=\"_blank\" href=https://colab.research.google.com/notebooks/data_table.ipynb>data table notebook</a>'\n",
              "            + ' to learn more about interactive tables.';\n",
              "          element.innerHTML = '';\n",
              "          dataTable['output_type'] = 'display_data';\n",
              "          await google.colab.output.renderOutput(dataTable, element);\n",
              "          const docLink = document.createElement('div');\n",
              "          docLink.innerHTML = docLinkHtml;\n",
              "          element.appendChild(docLink);\n",
              "        }\n",
              "      </script>\n",
              "    </div>\n",
              "  </div>\n",
              "  "
            ]
          },
          "metadata": {},
          "execution_count": 11
        }
      ],
      "source": [
        "train_df.describe()"
      ]
    },
    {
      "cell_type": "markdown",
      "metadata": {
        "id": "7h-62_6H9BdD"
      },
      "source": [
        "## Data Preprocessing"
      ]
    },
    {
      "cell_type": "markdown",
      "metadata": {
        "id": "_21xeI0y9Fu0"
      },
      "source": [
        "### input and Target columns"
      ]
    },
    {
      "cell_type": "code",
      "execution_count": 12,
      "metadata": {
        "id": "Op-6VrQF88iA"
      },
      "outputs": [],
      "source": [
        "input_cols = ['breath_id','R','C','time_step','u_in','u_out']\n",
        "target_col = ['pressure']"
      ]
    },
    {
      "cell_type": "markdown",
      "metadata": {
        "id": "2KrpKJ0N-15S"
      },
      "source": [
        "### Splitting train_df into input and target columns"
      ]
    },
    {
      "cell_type": "code",
      "execution_count": 13,
      "metadata": {
        "id": "dV8MzlBX-nD8"
      },
      "outputs": [],
      "source": [
        "X,y = train_df[input_cols].values,train_df[target_col].values"
      ]
    },
    {
      "cell_type": "markdown",
      "metadata": {
        "id": "tGQZSB2TDLhd"
      },
      "source": [
        "### Split Data into Train and Validation set"
      ]
    },
    {
      "cell_type": "code",
      "execution_count": 14,
      "metadata": {
        "id": "T1ydcV79-zEC"
      },
      "outputs": [],
      "source": [
        "X_train, X_val, y_train, y_val = train_test_split(X, y, test_size=0.3, random_state=20)"
      ]
    },
    {
      "cell_type": "code",
      "execution_count": 15,
      "metadata": {
        "colab": {
          "base_uri": "https://localhost:8080/"
        },
        "id": "aDh-5q0ODrlP",
        "outputId": "2f4defb6-bde4-43c6-b99a-fe763bbbe476"
      },
      "outputs": [
        {
          "output_type": "stream",
          "name": "stdout",
          "text": [
            "X train len : 4225200\n",
            "y train len : 4225200\n",
            "X val len : 1810800\n",
            "y val len : 1810800\n"
          ]
        }
      ],
      "source": [
        "print('X train len :',len(X_train))\n",
        "print('y train len :',len(y_train))\n",
        "print('X val len :',len(X_val))\n",
        "print('y val len :',len(y_val))"
      ]
    },
    {
      "cell_type": "markdown",
      "metadata": {
        "id": "IptcGqp0EHNz"
      },
      "source": [
        "## Scaling Data with standard scaler"
      ]
    },
    {
      "cell_type": "code",
      "execution_count": 16,
      "metadata": {
        "colab": {
          "base_uri": "https://localhost:8080/"
        },
        "id": "_A2sARTCEC4d",
        "outputId": "de7f742a-35ec-47d6-c081-8e223aadef76"
      },
      "outputs": [
        {
          "output_type": "execute_result",
          "data": {
            "text/plain": [
              "StandardScaler()"
            ]
          },
          "metadata": {},
          "execution_count": 16
        }
      ],
      "source": [
        "scaler = StandardScaler()\n",
        "scaler.fit(X_train)"
      ]
    },
    {
      "cell_type": "code",
      "execution_count": 17,
      "metadata": {
        "id": "ENE_FesJEYtN"
      },
      "outputs": [],
      "source": [
        "X_train = scaler.transform(X_train)\n",
        "X_val = scaler.transform(X_val)"
      ]
    },
    {
      "cell_type": "markdown",
      "metadata": {
        "id": "1vHUj-1iEtTp"
      },
      "source": [
        "## ANN Model Building"
      ]
    },
    {
      "cell_type": "code",
      "execution_count": 18,
      "metadata": {
        "id": "Hf5wlI6OIUR_"
      },
      "outputs": [],
      "source": [
        "model =Sequential()\n",
        "model.add(Dense(24, activation='relu'))\n",
        "model.add(Dense(24, activation='relu'))\n",
        "model.add(Dense(1))\n",
        "    \n",
        "model.compile(optimizer='adam', loss='mean_squared_error', metrics=[tf.keras.metrics.RootMeanSquaredError()])"
      ]
    },
    {
      "cell_type": "markdown",
      "source": [
        "## Training Neural Network"
      ],
      "metadata": {
        "id": "Bzj_GuObHy6x"
      }
    },
    {
      "cell_type": "code",
      "execution_count": 19,
      "metadata": {
        "colab": {
          "base_uri": "https://localhost:8080/"
        },
        "id": "PEDXCKD4KfJu",
        "outputId": "a1f656dc-806a-4ebb-b759-bd33a1863add"
      },
      "outputs": [
        {
          "output_type": "stream",
          "name": "stdout",
          "text": [
            "Epoch 1/60\n",
            "423/423 [==============================] - 5s 10ms/step - loss: 68.6773 - root_mean_squared_error: 8.2872 - val_loss: 41.0679 - val_root_mean_squared_error: 6.4084\n",
            "Epoch 2/60\n",
            "423/423 [==============================] - 3s 8ms/step - loss: 37.0194 - root_mean_squared_error: 6.0844 - val_loss: 31.5191 - val_root_mean_squared_error: 5.6142\n",
            "Epoch 3/60\n",
            "423/423 [==============================] - 4s 8ms/step - loss: 28.4451 - root_mean_squared_error: 5.3334 - val_loss: 26.8893 - val_root_mean_squared_error: 5.1855\n",
            "Epoch 4/60\n",
            "423/423 [==============================] - 4s 8ms/step - loss: 26.0541 - root_mean_squared_error: 5.1043 - val_loss: 25.3657 - val_root_mean_squared_error: 5.0364\n",
            "Epoch 5/60\n",
            "423/423 [==============================] - 3s 8ms/step - loss: 24.5149 - root_mean_squared_error: 4.9513 - val_loss: 23.9788 - val_root_mean_squared_error: 4.8968\n",
            "Epoch 6/60\n",
            "423/423 [==============================] - 3s 8ms/step - loss: 23.4183 - root_mean_squared_error: 4.8392 - val_loss: 23.1085 - val_root_mean_squared_error: 4.8071\n",
            "Epoch 7/60\n",
            "423/423 [==============================] - 4s 9ms/step - loss: 22.6725 - root_mean_squared_error: 4.7616 - val_loss: 22.4546 - val_root_mean_squared_error: 4.7386\n",
            "Epoch 8/60\n",
            "423/423 [==============================] - 4s 9ms/step - loss: 22.1561 - root_mean_squared_error: 4.7070 - val_loss: 22.0173 - val_root_mean_squared_error: 4.6923\n",
            "Epoch 9/60\n",
            "423/423 [==============================] - 4s 8ms/step - loss: 21.7264 - root_mean_squared_error: 4.6612 - val_loss: 21.5941 - val_root_mean_squared_error: 4.6469\n",
            "Epoch 10/60\n",
            "423/423 [==============================] - 4s 9ms/step - loss: 21.3413 - root_mean_squared_error: 4.6197 - val_loss: 21.2508 - val_root_mean_squared_error: 4.6099\n",
            "Epoch 11/60\n",
            "423/423 [==============================] - 3s 8ms/step - loss: 21.0125 - root_mean_squared_error: 4.5839 - val_loss: 20.9432 - val_root_mean_squared_error: 4.5764\n",
            "Epoch 12/60\n",
            "423/423 [==============================] - 3s 8ms/step - loss: 20.7208 - root_mean_squared_error: 4.5520 - val_loss: 20.6439 - val_root_mean_squared_error: 4.5436\n",
            "Epoch 13/60\n",
            "423/423 [==============================] - 4s 8ms/step - loss: 20.4784 - root_mean_squared_error: 4.5253 - val_loss: 20.4339 - val_root_mean_squared_error: 4.5204\n",
            "Epoch 14/60\n",
            "423/423 [==============================] - 4s 8ms/step - loss: 20.2837 - root_mean_squared_error: 4.5037 - val_loss: 20.2452 - val_root_mean_squared_error: 4.4995\n",
            "Epoch 15/60\n",
            "423/423 [==============================] - 4s 9ms/step - loss: 20.1173 - root_mean_squared_error: 4.4852 - val_loss: 20.1063 - val_root_mean_squared_error: 4.4840\n",
            "Epoch 16/60\n",
            "423/423 [==============================] - 3s 8ms/step - loss: 19.9775 - root_mean_squared_error: 4.4696 - val_loss: 19.9919 - val_root_mean_squared_error: 4.4712\n",
            "Epoch 17/60\n",
            "423/423 [==============================] - 4s 8ms/step - loss: 19.8687 - root_mean_squared_error: 4.4574 - val_loss: 19.8972 - val_root_mean_squared_error: 4.4606\n",
            "Epoch 18/60\n",
            "423/423 [==============================] - 4s 9ms/step - loss: 19.7750 - root_mean_squared_error: 4.4469 - val_loss: 19.7788 - val_root_mean_squared_error: 4.4473\n",
            "Epoch 19/60\n",
            "423/423 [==============================] - 3s 8ms/step - loss: 19.7003 - root_mean_squared_error: 4.4385 - val_loss: 19.7023 - val_root_mean_squared_error: 4.4387\n",
            "Epoch 20/60\n",
            "423/423 [==============================] - 4s 9ms/step - loss: 19.6313 - root_mean_squared_error: 4.4307 - val_loss: 19.6581 - val_root_mean_squared_error: 4.4337\n",
            "Epoch 21/60\n",
            "423/423 [==============================] - 4s 8ms/step - loss: 19.5716 - root_mean_squared_error: 4.4240 - val_loss: 19.5924 - val_root_mean_squared_error: 4.4263\n",
            "Epoch 22/60\n",
            "423/423 [==============================] - 3s 8ms/step - loss: 19.5145 - root_mean_squared_error: 4.4175 - val_loss: 19.5561 - val_root_mean_squared_error: 4.4222\n",
            "Epoch 23/60\n",
            "423/423 [==============================] - 4s 9ms/step - loss: 19.4623 - root_mean_squared_error: 4.4116 - val_loss: 19.4690 - val_root_mean_squared_error: 4.4124\n",
            "Epoch 24/60\n",
            "423/423 [==============================] - 5s 12ms/step - loss: 19.3134 - root_mean_squared_error: 4.3947 - val_loss: 19.3155 - val_root_mean_squared_error: 4.3949\n",
            "Epoch 25/60\n",
            "423/423 [==============================] - 4s 9ms/step - loss: 19.2450 - root_mean_squared_error: 4.3869 - val_loss: 19.2566 - val_root_mean_squared_error: 4.3882\n",
            "Epoch 26/60\n",
            "423/423 [==============================] - 4s 9ms/step - loss: 19.1964 - root_mean_squared_error: 4.3814 - val_loss: 19.2082 - val_root_mean_squared_error: 4.3827\n",
            "Epoch 27/60\n",
            "423/423 [==============================] - 4s 9ms/step - loss: 19.1570 - root_mean_squared_error: 4.3769 - val_loss: 19.1884 - val_root_mean_squared_error: 4.3805\n",
            "Epoch 28/60\n",
            "423/423 [==============================] - 4s 9ms/step - loss: 19.1214 - root_mean_squared_error: 4.3728 - val_loss: 19.1495 - val_root_mean_squared_error: 4.3760\n",
            "Epoch 29/60\n",
            "423/423 [==============================] - 3s 8ms/step - loss: 19.0905 - root_mean_squared_error: 4.3693 - val_loss: 19.1038 - val_root_mean_squared_error: 4.3708\n",
            "Epoch 30/60\n",
            "423/423 [==============================] - 4s 9ms/step - loss: 19.0636 - root_mean_squared_error: 4.3662 - val_loss: 19.0886 - val_root_mean_squared_error: 4.3691\n",
            "Epoch 31/60\n",
            "423/423 [==============================] - 4s 8ms/step - loss: 19.0345 - root_mean_squared_error: 4.3629 - val_loss: 19.0585 - val_root_mean_squared_error: 4.3656\n",
            "Epoch 32/60\n",
            "423/423 [==============================] - 4s 9ms/step - loss: 19.0099 - root_mean_squared_error: 4.3600 - val_loss: 19.0321 - val_root_mean_squared_error: 4.3626\n",
            "Epoch 33/60\n",
            "423/423 [==============================] - 4s 9ms/step - loss: 18.9892 - root_mean_squared_error: 4.3577 - val_loss: 19.0066 - val_root_mean_squared_error: 4.3597\n",
            "Epoch 34/60\n",
            "423/423 [==============================] - 4s 9ms/step - loss: 18.9641 - root_mean_squared_error: 4.3548 - val_loss: 18.9834 - val_root_mean_squared_error: 4.3570\n",
            "Epoch 35/60\n",
            "423/423 [==============================] - 4s 10ms/step - loss: 18.9491 - root_mean_squared_error: 4.3531 - val_loss: 18.9625 - val_root_mean_squared_error: 4.3546\n",
            "Epoch 36/60\n",
            "423/423 [==============================] - 4s 10ms/step - loss: 18.9220 - root_mean_squared_error: 4.3499 - val_loss: 18.9817 - val_root_mean_squared_error: 4.3568\n",
            "Epoch 37/60\n",
            "423/423 [==============================] - 4s 9ms/step - loss: 18.9035 - root_mean_squared_error: 4.3478 - val_loss: 18.9242 - val_root_mean_squared_error: 4.3502\n",
            "Epoch 38/60\n",
            "423/423 [==============================] - 4s 9ms/step - loss: 18.8818 - root_mean_squared_error: 4.3453 - val_loss: 18.9247 - val_root_mean_squared_error: 4.3503\n",
            "Epoch 39/60\n",
            "423/423 [==============================] - 4s 9ms/step - loss: 18.8597 - root_mean_squared_error: 4.3428 - val_loss: 18.9276 - val_root_mean_squared_error: 4.3506\n",
            "Epoch 40/60\n",
            "423/423 [==============================] - 4s 9ms/step - loss: 18.8477 - root_mean_squared_error: 4.3414 - val_loss: 18.8904 - val_root_mean_squared_error: 4.3463\n",
            "Epoch 41/60\n",
            "423/423 [==============================] - 4s 8ms/step - loss: 18.8250 - root_mean_squared_error: 4.3388 - val_loss: 18.8559 - val_root_mean_squared_error: 4.3423\n",
            "Epoch 42/60\n",
            "423/423 [==============================] - 4s 9ms/step - loss: 18.8122 - root_mean_squared_error: 4.3373 - val_loss: 18.8302 - val_root_mean_squared_error: 4.3394\n",
            "Epoch 43/60\n",
            "423/423 [==============================] - 4s 8ms/step - loss: 18.7924 - root_mean_squared_error: 4.3350 - val_loss: 18.8378 - val_root_mean_squared_error: 4.3403\n",
            "Epoch 44/60\n",
            "423/423 [==============================] - 4s 8ms/step - loss: 18.7829 - root_mean_squared_error: 4.3339 - val_loss: 18.8254 - val_root_mean_squared_error: 4.3388\n",
            "Epoch 45/60\n",
            "423/423 [==============================] - 4s 8ms/step - loss: 18.7677 - root_mean_squared_error: 4.3322 - val_loss: 18.8038 - val_root_mean_squared_error: 4.3363\n",
            "Epoch 46/60\n",
            "423/423 [==============================] - 3s 8ms/step - loss: 18.7536 - root_mean_squared_error: 4.3305 - val_loss: 18.7759 - val_root_mean_squared_error: 4.3331\n",
            "Epoch 47/60\n",
            "423/423 [==============================] - 4s 8ms/step - loss: 18.7428 - root_mean_squared_error: 4.3293 - val_loss: 18.7627 - val_root_mean_squared_error: 4.3316\n",
            "Epoch 48/60\n",
            "423/423 [==============================] - 5s 12ms/step - loss: 18.7322 - root_mean_squared_error: 4.3281 - val_loss: 18.7570 - val_root_mean_squared_error: 4.3309\n",
            "Epoch 49/60\n",
            "423/423 [==============================] - 5s 13ms/step - loss: 18.7162 - root_mean_squared_error: 4.3262 - val_loss: 18.7580 - val_root_mean_squared_error: 4.3310\n",
            "Epoch 50/60\n",
            "423/423 [==============================] - 6s 15ms/step - loss: 18.7063 - root_mean_squared_error: 4.3251 - val_loss: 18.7219 - val_root_mean_squared_error: 4.3269\n",
            "Epoch 51/60\n",
            "423/423 [==============================] - 5s 13ms/step - loss: 18.6934 - root_mean_squared_error: 4.3236 - val_loss: 18.7086 - val_root_mean_squared_error: 4.3253\n",
            "Epoch 52/60\n",
            "423/423 [==============================] - 4s 10ms/step - loss: 18.6874 - root_mean_squared_error: 4.3229 - val_loss: 18.7235 - val_root_mean_squared_error: 4.3271\n",
            "Epoch 53/60\n",
            "423/423 [==============================] - 3s 8ms/step - loss: 18.6729 - root_mean_squared_error: 4.3212 - val_loss: 18.7209 - val_root_mean_squared_error: 4.3268\n",
            "Epoch 54/60\n",
            "423/423 [==============================] - 4s 9ms/step - loss: 18.6656 - root_mean_squared_error: 4.3204 - val_loss: 18.6905 - val_root_mean_squared_error: 4.3233\n",
            "Epoch 55/60\n",
            "423/423 [==============================] - 3s 8ms/step - loss: 18.6597 - root_mean_squared_error: 4.3197 - val_loss: 18.6800 - val_root_mean_squared_error: 4.3220\n",
            "Epoch 56/60\n",
            "423/423 [==============================] - 3s 8ms/step - loss: 18.6500 - root_mean_squared_error: 4.3186 - val_loss: 18.6753 - val_root_mean_squared_error: 4.3215\n",
            "Epoch 57/60\n",
            "423/423 [==============================] - 4s 9ms/step - loss: 18.6374 - root_mean_squared_error: 4.3171 - val_loss: 18.6643 - val_root_mean_squared_error: 4.3202\n",
            "Epoch 58/60\n",
            "423/423 [==============================] - 4s 9ms/step - loss: 18.6257 - root_mean_squared_error: 4.3157 - val_loss: 18.6495 - val_root_mean_squared_error: 4.3185\n",
            "Epoch 59/60\n",
            "423/423 [==============================] - 4s 8ms/step - loss: 18.6200 - root_mean_squared_error: 4.3151 - val_loss: 18.6609 - val_root_mean_squared_error: 4.3198\n",
            "Epoch 60/60\n",
            "423/423 [==============================] - 4s 9ms/step - loss: 18.6132 - root_mean_squared_error: 4.3143 - val_loss: 18.6440 - val_root_mean_squared_error: 4.3179\n"
          ]
        },
        {
          "output_type": "execute_result",
          "data": {
            "text/plain": [
              "<keras.callbacks.History at 0x7f55758d3610>"
            ]
          },
          "metadata": {},
          "execution_count": 19
        }
      ],
      "source": [
        "model.fit(X_train, y_train, batch_size = 10000, epochs = 60,validation_data = (X_val, y_val))"
      ]
    },
    {
      "cell_type": "markdown",
      "source": [
        "## Model Evaluation"
      ],
      "metadata": {
        "id": "TinKxSpsG9cf"
      }
    },
    {
      "cell_type": "markdown",
      "source": [
        "## Submission for Kaggle"
      ],
      "metadata": {
        "id": "iR6kYhukoK0x"
      }
    },
    {
      "cell_type": "code",
      "execution_count": 21,
      "metadata": {
        "id": "CmoXUqQxLVAP"
      },
      "outputs": [],
      "source": [
        "X_test = test_df[input_cols].values\n",
        "X_test = scaler.transform(X_test) "
      ]
    },
    {
      "cell_type": "code",
      "source": [
        "y_test=model.predict(X_test,batch_size = 10000)"
      ],
      "metadata": {
        "id": "d5Zpt17-7Rdh"
      },
      "execution_count": 22,
      "outputs": []
    },
    {
      "cell_type": "code",
      "source": [
        "submission = pd.DataFrame(test_df['id'])\n",
        "submission['pressure'] = y_test"
      ],
      "metadata": {
        "id": "CPhOPV5X7Z9h"
      },
      "execution_count": 23,
      "outputs": []
    },
    {
      "cell_type": "code",
      "source": [
        "submission.to_csv('submission.csv',index=False) "
      ],
      "metadata": {
        "id": "61KcjF2P8J_H"
      },
      "execution_count": 24,
      "outputs": []
    }
  ],
  "metadata": {
    "colab": {
      "name": "Google Brain - Ventilator Pressure Prediction ANN Regression.ipynb",
      "provenance": []
    },
    "gpuClass": "standard",
    "kernelspec": {
      "display_name": "Python 3",
      "name": "python3"
    },
    "language_info": {
      "name": "python"
    }
  },
  "nbformat": 4,
  "nbformat_minor": 0
}